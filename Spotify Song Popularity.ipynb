{
 "cells": [
  {
   "cell_type": "markdown",
   "id": "edf90d29",
   "metadata": {},
   "source": [
    "<br><br>\n",
    "\n",
    "<div style=\"text-align: center;\">\n",
    "    <img src=\"https://storage.googleapis.com/pr-newsroom-wp/1/2018/11/Spotify_Logo_CMYK_Green.png\" width=\"50%\" center>\n",
    "</div>\n",
    "\n",
    "<br><br>\n",
    "\n",
    "# What makes a Song Popular on Spotify?\n",
    "\n",
    "\n",
    "Let's learn more about what makes a song popular. My intuition is that shorter, vocal and more energetic songs are more popular among the general population. These are the kind of songs you hear most frequently when tuning into the radio or checking the top tracks of the month. Is it possible to prove this statistically? Moreover, is your music taste more in line with the general public's, or you've developed a unique taste of your own?\n",
    "\n",
    "The dataset can be downloaded [here](https://www.kaggle.com/akiboy96/spotify-dataset) while the feature descriptions are taken from Spotify's developer [page](https://developer.spotify.com/documentation/web-api/reference/#/operations/get-audio-features). A summary of the song descriptions are in the table below. \n",
    "\n",
    "<br><br>\n",
    "\n",
    "| **Feature**        \t| **Description**                                                                                                                                                                                                                                                                                                                                                                                    \t|\n",
    "|--------------------\t|----------------------------------------------------------------------------------------------------------------------------------------------------------------------------------------------------------------------------------------------------------------------------------------------------------------------------------------------------------------------------------------------------\t|\n",
    "| `track`            \t| Track name                                                                                                                                                                                                                                                                                                                                                                                         \t|\n",
    "| `artist`           \t| Artist name                                                                                                                                                                                                                                                                                                                                                                                        \t|\n",
    "| `uri`              \t| URI for the track                                                                                                                                                                                                                                                                                                                                                                                  \t|\n",
    "| `danceability`     \t| Danceability describes how suitable a track is for dancing based on a combination of musical elements including tempo, rhythm stability, beat strength, and overall regularity. A value of 0.0 is least danceable and 1.0 is most danceable.                                                                                                                                                       \t|\n",
    "| `energy`           \t| Energy is a measure from 0.0 to 1.0 and represents a perceptual measure of intensity and activity. Typically, energetic tracks feel fast, loud, and noisy.                                                                                                                                                                                                                                         \t|\n",
    "| `key`              \t| The key the track is in. Integers map to pitches using standard Pitch Class notation.                                                                                                                                                                                                                                                                                                              \t|\n",
    "| `loudness`         \t| The overall loudness of a track in decibels (dB). Loudness values are averaged across the entire track and are useful for comparing relative loudness of tracks.                                                                                                                                                                                                                                   \t|\n",
    "| `mode`             \t| Mode indicates the modality (major or minor) of a track, the type of scale from which its melodic content is derived. Major is represented by 1 and minor is 0.                                                                                                                                                                                                                                    \t|\n",
    "| `speechiness`      \t| Speechiness detects the presence of spoken words in a track. The more exclusively speech-like the recording (e.g. talk show, audio book, poetry), the closer to 1.0 the attribute value.                                                                                                                                                                                                           \t|\n",
    "| `acousticness`     \t| A confidence measure from 0.0 to 1.0 of whether the track is acoustic. 1.0 represents high confidence the track is acoustic.                                                                                                                                                                                                                                                                       \t|\n",
    "| `instrumentalness` \t| Predicts whether a track contains no vocals. \"Ooh\" and \"aah\" sounds are treated as instrumental in this context. Rap or spoken word tracks are clearly \"vocal\". The closer the instrumentalness value is to 1.0, the greater likelihood the track contains no vocal content. Values above 0.5 are intended to represent instrumental tracks, but confidence is higher as the value approaches 1.0. \t|\n",
    "| `liveness`         \t| Detects the presence of an audience in the recording. Higher liveness values represent an increased probability that the track was performed live.                                                                                                                                                                                                                                                 \t|\n",
    "| `valence`          \t| A measure from 0.0 to 1.0 describing the musical positiveness conveyed by a track. Tracks with high valence sound more positive (e.g. happy, cheerful, euphoric).                                                                                                                                                                                                                                  \t|\n",
    "| `tempo`            \t| The overall estimated tempo of a track in beats per minute (BPM).                                                                                                                                                                                                                                                                                                                                  \t|\n",
    "| `duration_ms`      \t| Duration in milliseconds                                                                                                                                                                                                                                                                                                                                                                           \t|\n",
    "| `time_signature`   \t| An estimated time signature. The time signature (meter) is a notational convention to specify how many beats are in each bar (or measure). The time signature ranges from 3 to 7.                                                                                                                                                                                                                  \t|\n",
    "| `chorus_hit`       \t| This the the author's best estimate of when the chorus would start for the track. It's the timestamp of the start of the third section of the track.                                                                                                                                                                                                                                               \t|\n",
    "| `sections`         \t| Number of sections in a songs                                                                                                                                                                                                                                                                                                                                                                      \t|\n",
    "| `popularity`       \t| Song popularity, with popular songs (1) and unpopular songs (0)                                                                                                                                                                                                                                                                                                                                    \t|\n",
    "| `decade`           \t| Decade                                                                                                                                                                                                                                                                                                                                                                                             \t|\n",
    "\n",
    "\n",
    "<br><br>"
   ]
  },
  {
   "cell_type": "markdown",
   "id": "39ea9e22",
   "metadata": {},
   "source": [
    "More specifically, I'm interested in finding out which attributes are most different between popular and unpopular songs and whether we can confirm this statistically. \n",
    "\n",
    "\n",
    "<br><br>\n",
    "\n",
    "\n",
    "<a name=\"top\"></a>\n",
    "\n",
    "## Index\n",
    "\n",
    "\n",
    "- [Initial data exploration](#exploration)\n",
    "    - [Correlation Matrix](#correlation-matrix)\n",
    "- [Instrumentalness](#instrumentalness)\n",
    "- [Danceability](#danceability)\n",
    "- [Energy](#energy)\n",
    "- [Duration](#duration)\n",
    "- [Speechiness](#speechiness)\n",
    "- **[Conclusions](#conclusions)**\n",
    "\n",
    "\n",
    "<br>"
   ]
  },
  {
   "cell_type": "code",
   "execution_count": 1,
   "id": "037442e2",
   "metadata": {},
   "outputs": [],
   "source": [
    "import pandas as pd\n",
    "import numpy as np\n",
    "import math\n",
    "import matplotlib.pyplot as plt\n",
    "import seaborn as sns; sns.set()\n",
    "from scipy import stats"
   ]
  },
  {
   "cell_type": "markdown",
   "id": "a8e0c162",
   "metadata": {},
   "source": [
    "<a name=\"exploration\"></a>\n",
    "\n",
    "## [Initial data exploration](#top)\n",
    "\n",
    "Load the data, decode the `mode` and `popularity` columns for ease of understanding, and delete two columns we're not interested in. Finally, display some statistics to make an initial verification that the data is okay. "
   ]
  },
  {
   "cell_type": "code",
   "execution_count": 112,
   "id": "3377cba2",
   "metadata": {},
   "outputs": [
    {
     "data": {
      "text/html": [
       "<div>\n",
       "<style scoped>\n",
       "    .dataframe tbody tr th:only-of-type {\n",
       "        vertical-align: middle;\n",
       "    }\n",
       "\n",
       "    .dataframe tbody tr th {\n",
       "        vertical-align: top;\n",
       "    }\n",
       "\n",
       "    .dataframe thead th {\n",
       "        text-align: right;\n",
       "    }\n",
       "</style>\n",
       "<table border=\"1\" class=\"dataframe\">\n",
       "  <thead>\n",
       "    <tr style=\"text-align: right;\">\n",
       "      <th></th>\n",
       "      <th>track</th>\n",
       "      <th>artist</th>\n",
       "      <th>danceability</th>\n",
       "      <th>energy</th>\n",
       "      <th>key</th>\n",
       "      <th>loudness</th>\n",
       "      <th>mode</th>\n",
       "      <th>speechiness</th>\n",
       "      <th>acousticness</th>\n",
       "      <th>instrumentalness</th>\n",
       "      <th>liveness</th>\n",
       "      <th>valence</th>\n",
       "      <th>tempo</th>\n",
       "      <th>duration_ms</th>\n",
       "      <th>time_signature</th>\n",
       "      <th>chorus_hit</th>\n",
       "      <th>sections</th>\n",
       "      <th>popularity</th>\n",
       "      <th>decade</th>\n",
       "      <th>duration</th>\n",
       "    </tr>\n",
       "  </thead>\n",
       "  <tbody>\n",
       "    <tr>\n",
       "      <th>0</th>\n",
       "      <td>Jealous Kind Of Fella</td>\n",
       "      <td>Garland Green</td>\n",
       "      <td>0.417</td>\n",
       "      <td>0.620</td>\n",
       "      <td>3</td>\n",
       "      <td>-7.727</td>\n",
       "      <td>Major</td>\n",
       "      <td>0.0403</td>\n",
       "      <td>0.490</td>\n",
       "      <td>0.000000</td>\n",
       "      <td>0.0779</td>\n",
       "      <td>0.845</td>\n",
       "      <td>185.655</td>\n",
       "      <td>173533</td>\n",
       "      <td>3</td>\n",
       "      <td>32.94975</td>\n",
       "      <td>9</td>\n",
       "      <td>Popular</td>\n",
       "      <td>60s</td>\n",
       "      <td>173.533</td>\n",
       "    </tr>\n",
       "    <tr>\n",
       "      <th>1</th>\n",
       "      <td>Initials B.B.</td>\n",
       "      <td>Serge Gainsbourg</td>\n",
       "      <td>0.498</td>\n",
       "      <td>0.505</td>\n",
       "      <td>3</td>\n",
       "      <td>-12.475</td>\n",
       "      <td>Major</td>\n",
       "      <td>0.0337</td>\n",
       "      <td>0.018</td>\n",
       "      <td>0.107000</td>\n",
       "      <td>0.1760</td>\n",
       "      <td>0.797</td>\n",
       "      <td>101.801</td>\n",
       "      <td>213613</td>\n",
       "      <td>4</td>\n",
       "      <td>48.82510</td>\n",
       "      <td>10</td>\n",
       "      <td>Unpopular</td>\n",
       "      <td>60s</td>\n",
       "      <td>213.613</td>\n",
       "    </tr>\n",
       "    <tr>\n",
       "      <th>2</th>\n",
       "      <td>Melody Twist</td>\n",
       "      <td>Lord Melody</td>\n",
       "      <td>0.657</td>\n",
       "      <td>0.649</td>\n",
       "      <td>5</td>\n",
       "      <td>-13.392</td>\n",
       "      <td>Major</td>\n",
       "      <td>0.0380</td>\n",
       "      <td>0.846</td>\n",
       "      <td>0.000004</td>\n",
       "      <td>0.1190</td>\n",
       "      <td>0.908</td>\n",
       "      <td>115.940</td>\n",
       "      <td>223960</td>\n",
       "      <td>4</td>\n",
       "      <td>37.22663</td>\n",
       "      <td>12</td>\n",
       "      <td>Unpopular</td>\n",
       "      <td>60s</td>\n",
       "      <td>223.960</td>\n",
       "    </tr>\n",
       "    <tr>\n",
       "      <th>3</th>\n",
       "      <td>Mi Bomba Sonó</td>\n",
       "      <td>Celia Cruz</td>\n",
       "      <td>0.590</td>\n",
       "      <td>0.545</td>\n",
       "      <td>7</td>\n",
       "      <td>-12.058</td>\n",
       "      <td>Minor</td>\n",
       "      <td>0.1040</td>\n",
       "      <td>0.706</td>\n",
       "      <td>0.024600</td>\n",
       "      <td>0.0610</td>\n",
       "      <td>0.967</td>\n",
       "      <td>105.592</td>\n",
       "      <td>157907</td>\n",
       "      <td>4</td>\n",
       "      <td>24.75484</td>\n",
       "      <td>8</td>\n",
       "      <td>Unpopular</td>\n",
       "      <td>60s</td>\n",
       "      <td>157.907</td>\n",
       "    </tr>\n",
       "    <tr>\n",
       "      <th>4</th>\n",
       "      <td>Uravu Solla</td>\n",
       "      <td>P. Susheela</td>\n",
       "      <td>0.515</td>\n",
       "      <td>0.765</td>\n",
       "      <td>11</td>\n",
       "      <td>-3.515</td>\n",
       "      <td>Minor</td>\n",
       "      <td>0.1240</td>\n",
       "      <td>0.857</td>\n",
       "      <td>0.000872</td>\n",
       "      <td>0.2130</td>\n",
       "      <td>0.906</td>\n",
       "      <td>114.617</td>\n",
       "      <td>245600</td>\n",
       "      <td>4</td>\n",
       "      <td>21.79874</td>\n",
       "      <td>14</td>\n",
       "      <td>Unpopular</td>\n",
       "      <td>60s</td>\n",
       "      <td>245.600</td>\n",
       "    </tr>\n",
       "  </tbody>\n",
       "</table>\n",
       "</div>"
      ],
      "text/plain": [
       "                   track            artist  danceability  energy  key  \\\n",
       "0  Jealous Kind Of Fella     Garland Green         0.417   0.620    3   \n",
       "1          Initials B.B.  Serge Gainsbourg         0.498   0.505    3   \n",
       "2           Melody Twist       Lord Melody         0.657   0.649    5   \n",
       "3          Mi Bomba Sonó        Celia Cruz         0.590   0.545    7   \n",
       "4            Uravu Solla       P. Susheela         0.515   0.765   11   \n",
       "\n",
       "   loudness   mode  speechiness  acousticness  instrumentalness  liveness  \\\n",
       "0    -7.727  Major       0.0403         0.490          0.000000    0.0779   \n",
       "1   -12.475  Major       0.0337         0.018          0.107000    0.1760   \n",
       "2   -13.392  Major       0.0380         0.846          0.000004    0.1190   \n",
       "3   -12.058  Minor       0.1040         0.706          0.024600    0.0610   \n",
       "4    -3.515  Minor       0.1240         0.857          0.000872    0.2130   \n",
       "\n",
       "   valence    tempo  duration_ms  time_signature  chorus_hit  sections  \\\n",
       "0    0.845  185.655       173533               3    32.94975         9   \n",
       "1    0.797  101.801       213613               4    48.82510        10   \n",
       "2    0.908  115.940       223960               4    37.22663        12   \n",
       "3    0.967  105.592       157907               4    24.75484         8   \n",
       "4    0.906  114.617       245600               4    21.79874        14   \n",
       "\n",
       "  popularity decade  duration  \n",
       "0    Popular    60s   173.533  \n",
       "1  Unpopular    60s   213.613  \n",
       "2  Unpopular    60s   223.960  \n",
       "3  Unpopular    60s   157.907  \n",
       "4  Unpopular    60s   245.600  "
      ]
     },
     "metadata": {},
     "output_type": "display_data"
    },
    {
     "name": "stdout",
     "output_type": "stream",
     "text": [
      "<class 'pandas.core.frame.DataFrame'>\n",
      "RangeIndex: 41099 entries, 0 to 41098\n",
      "Data columns (total 20 columns):\n",
      " #   Column            Non-Null Count  Dtype  \n",
      "---  ------            --------------  -----  \n",
      " 0   track             41099 non-null  object \n",
      " 1   artist            41099 non-null  object \n",
      " 2   danceability      41099 non-null  float64\n",
      " 3   energy            41099 non-null  float64\n",
      " 4   key               41099 non-null  int64  \n",
      " 5   loudness          41099 non-null  float64\n",
      " 6   mode              41099 non-null  object \n",
      " 7   speechiness       41099 non-null  float64\n",
      " 8   acousticness      41099 non-null  float64\n",
      " 9   instrumentalness  41099 non-null  float64\n",
      " 10  liveness          41099 non-null  float64\n",
      " 11  valence           41099 non-null  float64\n",
      " 12  tempo             41099 non-null  float64\n",
      " 13  duration_ms       41099 non-null  int64  \n",
      " 14  time_signature    41099 non-null  int64  \n",
      " 15  chorus_hit        41099 non-null  float64\n",
      " 16  sections          41099 non-null  int64  \n",
      " 17  popularity        41099 non-null  object \n",
      " 18  decade            41099 non-null  object \n",
      " 19  duration          41099 non-null  float64\n",
      "dtypes: float64(11), int64(4), object(5)\n",
      "memory usage: 6.3+ MB\n"
     ]
    },
    {
     "data": {
      "text/html": [
       "<div>\n",
       "<style scoped>\n",
       "    .dataframe tbody tr th:only-of-type {\n",
       "        vertical-align: middle;\n",
       "    }\n",
       "\n",
       "    .dataframe tbody tr th {\n",
       "        vertical-align: top;\n",
       "    }\n",
       "\n",
       "    .dataframe thead th {\n",
       "        text-align: right;\n",
       "    }\n",
       "</style>\n",
       "<table border=\"1\" class=\"dataframe\">\n",
       "  <thead>\n",
       "    <tr style=\"text-align: right;\">\n",
       "      <th></th>\n",
       "      <th>danceability</th>\n",
       "      <th>energy</th>\n",
       "      <th>key</th>\n",
       "      <th>loudness</th>\n",
       "      <th>speechiness</th>\n",
       "      <th>acousticness</th>\n",
       "      <th>instrumentalness</th>\n",
       "      <th>liveness</th>\n",
       "      <th>valence</th>\n",
       "      <th>tempo</th>\n",
       "      <th>duration_ms</th>\n",
       "      <th>time_signature</th>\n",
       "      <th>chorus_hit</th>\n",
       "      <th>sections</th>\n",
       "      <th>duration</th>\n",
       "    </tr>\n",
       "  </thead>\n",
       "  <tbody>\n",
       "    <tr>\n",
       "      <th>count</th>\n",
       "      <td>41099.000000</td>\n",
       "      <td>41099.000000</td>\n",
       "      <td>41099.000000</td>\n",
       "      <td>41099.000000</td>\n",
       "      <td>41099.000000</td>\n",
       "      <td>41099.000000</td>\n",
       "      <td>41099.000000</td>\n",
       "      <td>41099.000000</td>\n",
       "      <td>41099.000000</td>\n",
       "      <td>41099.000000</td>\n",
       "      <td>4.109900e+04</td>\n",
       "      <td>41099.000000</td>\n",
       "      <td>41099.000000</td>\n",
       "      <td>41099.000000</td>\n",
       "      <td>41099.000000</td>\n",
       "    </tr>\n",
       "    <tr>\n",
       "      <th>mean</th>\n",
       "      <td>0.539683</td>\n",
       "      <td>0.579544</td>\n",
       "      <td>5.213752</td>\n",
       "      <td>-10.221446</td>\n",
       "      <td>0.072952</td>\n",
       "      <td>0.364232</td>\n",
       "      <td>0.154403</td>\n",
       "      <td>0.201534</td>\n",
       "      <td>0.542450</td>\n",
       "      <td>119.336349</td>\n",
       "      <td>2.348755e+05</td>\n",
       "      <td>3.893647</td>\n",
       "      <td>40.106896</td>\n",
       "      <td>10.475632</td>\n",
       "      <td>234.875505</td>\n",
       "    </tr>\n",
       "    <tr>\n",
       "      <th>std</th>\n",
       "      <td>0.177808</td>\n",
       "      <td>0.252629</td>\n",
       "      <td>3.535060</td>\n",
       "      <td>5.311227</td>\n",
       "      <td>0.086106</td>\n",
       "      <td>0.338908</td>\n",
       "      <td>0.303518</td>\n",
       "      <td>0.172957</td>\n",
       "      <td>0.267333</td>\n",
       "      <td>29.099116</td>\n",
       "      <td>1.189696e+05</td>\n",
       "      <td>0.423072</td>\n",
       "      <td>19.006697</td>\n",
       "      <td>4.872026</td>\n",
       "      <td>118.969563</td>\n",
       "    </tr>\n",
       "    <tr>\n",
       "      <th>min</th>\n",
       "      <td>0.000000</td>\n",
       "      <td>0.000251</td>\n",
       "      <td>0.000000</td>\n",
       "      <td>-49.253000</td>\n",
       "      <td>0.000000</td>\n",
       "      <td>0.000000</td>\n",
       "      <td>0.000000</td>\n",
       "      <td>0.013000</td>\n",
       "      <td>0.000000</td>\n",
       "      <td>0.000000</td>\n",
       "      <td>1.516800e+04</td>\n",
       "      <td>0.000000</td>\n",
       "      <td>0.000000</td>\n",
       "      <td>0.000000</td>\n",
       "      <td>15.168000</td>\n",
       "    </tr>\n",
       "    <tr>\n",
       "      <th>25%</th>\n",
       "      <td>0.420000</td>\n",
       "      <td>0.396000</td>\n",
       "      <td>2.000000</td>\n",
       "      <td>-12.816500</td>\n",
       "      <td>0.033700</td>\n",
       "      <td>0.039400</td>\n",
       "      <td>0.000000</td>\n",
       "      <td>0.094000</td>\n",
       "      <td>0.330000</td>\n",
       "      <td>97.395500</td>\n",
       "      <td>1.729165e+05</td>\n",
       "      <td>4.000000</td>\n",
       "      <td>27.599510</td>\n",
       "      <td>8.000000</td>\n",
       "      <td>172.916500</td>\n",
       "    </tr>\n",
       "    <tr>\n",
       "      <th>50%</th>\n",
       "      <td>0.552000</td>\n",
       "      <td>0.601000</td>\n",
       "      <td>5.000000</td>\n",
       "      <td>-9.257000</td>\n",
       "      <td>0.043400</td>\n",
       "      <td>0.258000</td>\n",
       "      <td>0.000120</td>\n",
       "      <td>0.132000</td>\n",
       "      <td>0.559000</td>\n",
       "      <td>117.564000</td>\n",
       "      <td>2.179070e+05</td>\n",
       "      <td>4.000000</td>\n",
       "      <td>35.850270</td>\n",
       "      <td>10.000000</td>\n",
       "      <td>217.907000</td>\n",
       "    </tr>\n",
       "    <tr>\n",
       "      <th>75%</th>\n",
       "      <td>0.669000</td>\n",
       "      <td>0.787000</td>\n",
       "      <td>8.000000</td>\n",
       "      <td>-6.375000</td>\n",
       "      <td>0.069800</td>\n",
       "      <td>0.676000</td>\n",
       "      <td>0.061200</td>\n",
       "      <td>0.261000</td>\n",
       "      <td>0.768000</td>\n",
       "      <td>136.492000</td>\n",
       "      <td>2.667730e+05</td>\n",
       "      <td>4.000000</td>\n",
       "      <td>47.627240</td>\n",
       "      <td>12.000000</td>\n",
       "      <td>266.773000</td>\n",
       "    </tr>\n",
       "    <tr>\n",
       "      <th>max</th>\n",
       "      <td>0.988000</td>\n",
       "      <td>1.000000</td>\n",
       "      <td>11.000000</td>\n",
       "      <td>3.744000</td>\n",
       "      <td>0.960000</td>\n",
       "      <td>0.996000</td>\n",
       "      <td>1.000000</td>\n",
       "      <td>0.999000</td>\n",
       "      <td>0.996000</td>\n",
       "      <td>241.423000</td>\n",
       "      <td>4.170227e+06</td>\n",
       "      <td>5.000000</td>\n",
       "      <td>433.182000</td>\n",
       "      <td>169.000000</td>\n",
       "      <td>4170.227000</td>\n",
       "    </tr>\n",
       "  </tbody>\n",
       "</table>\n",
       "</div>"
      ],
      "text/plain": [
       "       danceability        energy           key      loudness   speechiness  \\\n",
       "count  41099.000000  41099.000000  41099.000000  41099.000000  41099.000000   \n",
       "mean       0.539683      0.579544      5.213752    -10.221446      0.072952   \n",
       "std        0.177808      0.252629      3.535060      5.311227      0.086106   \n",
       "min        0.000000      0.000251      0.000000    -49.253000      0.000000   \n",
       "25%        0.420000      0.396000      2.000000    -12.816500      0.033700   \n",
       "50%        0.552000      0.601000      5.000000     -9.257000      0.043400   \n",
       "75%        0.669000      0.787000      8.000000     -6.375000      0.069800   \n",
       "max        0.988000      1.000000     11.000000      3.744000      0.960000   \n",
       "\n",
       "       acousticness  instrumentalness      liveness       valence  \\\n",
       "count  41099.000000      41099.000000  41099.000000  41099.000000   \n",
       "mean       0.364232          0.154403      0.201534      0.542450   \n",
       "std        0.338908          0.303518      0.172957      0.267333   \n",
       "min        0.000000          0.000000      0.013000      0.000000   \n",
       "25%        0.039400          0.000000      0.094000      0.330000   \n",
       "50%        0.258000          0.000120      0.132000      0.559000   \n",
       "75%        0.676000          0.061200      0.261000      0.768000   \n",
       "max        0.996000          1.000000      0.999000      0.996000   \n",
       "\n",
       "              tempo   duration_ms  time_signature    chorus_hit      sections  \\\n",
       "count  41099.000000  4.109900e+04    41099.000000  41099.000000  41099.000000   \n",
       "mean     119.336349  2.348755e+05        3.893647     40.106896     10.475632   \n",
       "std       29.099116  1.189696e+05        0.423072     19.006697      4.872026   \n",
       "min        0.000000  1.516800e+04        0.000000      0.000000      0.000000   \n",
       "25%       97.395500  1.729165e+05        4.000000     27.599510      8.000000   \n",
       "50%      117.564000  2.179070e+05        4.000000     35.850270     10.000000   \n",
       "75%      136.492000  2.667730e+05        4.000000     47.627240     12.000000   \n",
       "max      241.423000  4.170227e+06        5.000000    433.182000    169.000000   \n",
       "\n",
       "           duration  \n",
       "count  41099.000000  \n",
       "mean     234.875505  \n",
       "std      118.969563  \n",
       "min       15.168000  \n",
       "25%      172.916500  \n",
       "50%      217.907000  \n",
       "75%      266.773000  \n",
       "max     4170.227000  "
      ]
     },
     "metadata": {},
     "output_type": "display_data"
    }
   ],
   "source": [
    "# Load the data into pandas. \n",
    "spotify = pd.read_csv('Spotify/spotify_dataset.csv')\n",
    "\n",
    "# Decode mode and popularity to facilitate interpretation. Convert duration_ms to seconds\n",
    "spotify['mode'] = spotify['mode'].apply(lambda x: 'Major' if x == 1 else 'Minor')\n",
    "spotify['popularity'] = spotify['popularity'].apply(lambda x: 'Popular' if x == 1 else 'Unpopular')\n",
    "spotify['duration'] = spotify['duration_ms'] / 1000\n",
    "\n",
    "# Remove the uri column\n",
    "spotify.drop(['uri'], axis=1, inplace=True)\n",
    "\n",
    "# Display some statistics\n",
    "display(spotify.head())\n",
    "spotify.info()\n",
    "display(spotify.describe())"
   ]
  },
  {
   "cell_type": "markdown",
   "id": "1e24ffe6",
   "metadata": {},
   "source": [
    "All columns seem to have a reasonable range. Max duration (`duration_ms`) is very high at `4.17e6`, but converted into something more comprehensible it's actually no more than 70 minutes (around 4000 seconds) - well within what's plausible for a song length. \n",
    "\n",
    "Display what decades most songs are from based on popularity and mode.  "
   ]
  },
  {
   "cell_type": "code",
   "execution_count": 113,
   "id": "eba0329a",
   "metadata": {},
   "outputs": [
    {
     "data": {
      "image/png": "[encoded data removed]",
      "text/plain": [
       "<Figure size 1026.47x360 with 2 Axes>"
      ]
     },
     "metadata": {},
     "output_type": "display_data"
    }
   ],
   "source": [
    "# Plot song popularity by decade and mode\n",
    "g = sns.catplot(x='decade', hue='popularity', col='mode', \n",
    "                data=spotify, kind='count', aspect=1.3)\n",
    "for ax in g.axes.ravel():\n",
    "    ax.bar_label(ax.containers[0])\n",
    "    ax.bar_label(ax.containers[1])\n",
    "(g.set_axis_labels(\"Decade\", \"Count\", size=14)\n",
    "  .set_titles(\"{col_name} {col_var}\", size=14));"
   ]
  },
  {
   "cell_type": "markdown",
   "id": "65bf2702",
   "metadata": {},
   "source": [
    "The data consist of most songs from the 60s and 70s. Major mode is more frequent than Minor mode. \n",
    "\n",
    "Let's se what features are most correlated with popular songs by calculating the correlation between each feature and the popularity. This can then be displayed in something referred to as a correlation matrix.  \n",
    "\n",
    "<br>\n",
    "\n",
    "<a name=\"correlation-matrix\"></a>\n",
    "\n",
    "\n",
    "### [Correlation matrix](#top)\n",
    "\n",
    "In order to facilitate interpretation of the correlation matrix, I will rearrange the column order so popularity ends up in the first position. Columns need to be converted to numerical as well. "
   ]
  },
  {
   "cell_type": "code",
   "execution_count": 118,
   "id": "c0587f4e",
   "metadata": {},
   "outputs": [
    {
     "data": {
      "text/html": [
       "<div>\n",
       "<style scoped>\n",
       "    .dataframe tbody tr th:only-of-type {\n",
       "        vertical-align: middle;\n",
       "    }\n",
       "\n",
       "    .dataframe tbody tr th {\n",
       "        vertical-align: top;\n",
       "    }\n",
       "\n",
       "    .dataframe thead th {\n",
       "        text-align: right;\n",
       "    }\n",
       "</style>\n",
       "<table border=\"1\" class=\"dataframe\">\n",
       "  <thead>\n",
       "    <tr style=\"text-align: right;\">\n",
       "      <th></th>\n",
       "      <th>popularity</th>\n",
       "      <th>track</th>\n",
       "      <th>artist</th>\n",
       "      <th>danceability</th>\n",
       "      <th>energy</th>\n",
       "      <th>key</th>\n",
       "      <th>loudness</th>\n",
       "      <th>mode</th>\n",
       "      <th>speechiness</th>\n",
       "      <th>acousticness</th>\n",
       "      <th>instrumentalness</th>\n",
       "      <th>liveness</th>\n",
       "      <th>valence</th>\n",
       "      <th>tempo</th>\n",
       "      <th>duration_ms</th>\n",
       "      <th>time_signature</th>\n",
       "      <th>chorus_hit</th>\n",
       "      <th>sections</th>\n",
       "      <th>decade</th>\n",
       "      <th>duration</th>\n",
       "    </tr>\n",
       "  </thead>\n",
       "  <tbody>\n",
       "    <tr>\n",
       "      <th>0</th>\n",
       "      <td>1</td>\n",
       "      <td>Jealous Kind Of Fella</td>\n",
       "      <td>Garland Green</td>\n",
       "      <td>0.417</td>\n",
       "      <td>0.620</td>\n",
       "      <td>3</td>\n",
       "      <td>-7.727</td>\n",
       "      <td>Major</td>\n",
       "      <td>0.0403</td>\n",
       "      <td>0.490</td>\n",
       "      <td>0.000000</td>\n",
       "      <td>0.0779</td>\n",
       "      <td>0.845</td>\n",
       "      <td>185.655</td>\n",
       "      <td>173533</td>\n",
       "      <td>3</td>\n",
       "      <td>32.94975</td>\n",
       "      <td>9</td>\n",
       "      <td>60</td>\n",
       "      <td>173.533</td>\n",
       "    </tr>\n",
       "    <tr>\n",
       "      <th>1</th>\n",
       "      <td>0</td>\n",
       "      <td>Initials B.B.</td>\n",
       "      <td>Serge Gainsbourg</td>\n",
       "      <td>0.498</td>\n",
       "      <td>0.505</td>\n",
       "      <td>3</td>\n",
       "      <td>-12.475</td>\n",
       "      <td>Major</td>\n",
       "      <td>0.0337</td>\n",
       "      <td>0.018</td>\n",
       "      <td>0.107000</td>\n",
       "      <td>0.1760</td>\n",
       "      <td>0.797</td>\n",
       "      <td>101.801</td>\n",
       "      <td>213613</td>\n",
       "      <td>4</td>\n",
       "      <td>48.82510</td>\n",
       "      <td>10</td>\n",
       "      <td>60</td>\n",
       "      <td>213.613</td>\n",
       "    </tr>\n",
       "    <tr>\n",
       "      <th>2</th>\n",
       "      <td>0</td>\n",
       "      <td>Melody Twist</td>\n",
       "      <td>Lord Melody</td>\n",
       "      <td>0.657</td>\n",
       "      <td>0.649</td>\n",
       "      <td>5</td>\n",
       "      <td>-13.392</td>\n",
       "      <td>Major</td>\n",
       "      <td>0.0380</td>\n",
       "      <td>0.846</td>\n",
       "      <td>0.000004</td>\n",
       "      <td>0.1190</td>\n",
       "      <td>0.908</td>\n",
       "      <td>115.940</td>\n",
       "      <td>223960</td>\n",
       "      <td>4</td>\n",
       "      <td>37.22663</td>\n",
       "      <td>12</td>\n",
       "      <td>60</td>\n",
       "      <td>223.960</td>\n",
       "    </tr>\n",
       "    <tr>\n",
       "      <th>3</th>\n",
       "      <td>0</td>\n",
       "      <td>Mi Bomba Sonó</td>\n",
       "      <td>Celia Cruz</td>\n",
       "      <td>0.590</td>\n",
       "      <td>0.545</td>\n",
       "      <td>7</td>\n",
       "      <td>-12.058</td>\n",
       "      <td>Minor</td>\n",
       "      <td>0.1040</td>\n",
       "      <td>0.706</td>\n",
       "      <td>0.024600</td>\n",
       "      <td>0.0610</td>\n",
       "      <td>0.967</td>\n",
       "      <td>105.592</td>\n",
       "      <td>157907</td>\n",
       "      <td>4</td>\n",
       "      <td>24.75484</td>\n",
       "      <td>8</td>\n",
       "      <td>60</td>\n",
       "      <td>157.907</td>\n",
       "    </tr>\n",
       "    <tr>\n",
       "      <th>4</th>\n",
       "      <td>0</td>\n",
       "      <td>Uravu Solla</td>\n",
       "      <td>P. Susheela</td>\n",
       "      <td>0.515</td>\n",
       "      <td>0.765</td>\n",
       "      <td>11</td>\n",
       "      <td>-3.515</td>\n",
       "      <td>Minor</td>\n",
       "      <td>0.1240</td>\n",
       "      <td>0.857</td>\n",
       "      <td>0.000872</td>\n",
       "      <td>0.2130</td>\n",
       "      <td>0.906</td>\n",
       "      <td>114.617</td>\n",
       "      <td>245600</td>\n",
       "      <td>4</td>\n",
       "      <td>21.79874</td>\n",
       "      <td>14</td>\n",
       "      <td>60</td>\n",
       "      <td>245.600</td>\n",
       "    </tr>\n",
       "  </tbody>\n",
       "</table>\n",
       "</div>"
      ],
      "text/plain": [
       "   popularity                  track            artist  danceability  energy  \\\n",
       "0           1  Jealous Kind Of Fella     Garland Green         0.417   0.620   \n",
       "1           0          Initials B.B.  Serge Gainsbourg         0.498   0.505   \n",
       "2           0           Melody Twist       Lord Melody         0.657   0.649   \n",
       "3           0          Mi Bomba Sonó        Celia Cruz         0.590   0.545   \n",
       "4           0            Uravu Solla       P. Susheela         0.515   0.765   \n",
       "\n",
       "   key  loudness   mode  speechiness  acousticness  instrumentalness  \\\n",
       "0    3    -7.727  Major       0.0403         0.490          0.000000   \n",
       "1    3   -12.475  Major       0.0337         0.018          0.107000   \n",
       "2    5   -13.392  Major       0.0380         0.846          0.000004   \n",
       "3    7   -12.058  Minor       0.1040         0.706          0.024600   \n",
       "4   11    -3.515  Minor       0.1240         0.857          0.000872   \n",
       "\n",
       "   liveness  valence    tempo  duration_ms  time_signature  chorus_hit  \\\n",
       "0    0.0779    0.845  185.655       173533               3    32.94975   \n",
       "1    0.1760    0.797  101.801       213613               4    48.82510   \n",
       "2    0.1190    0.908  115.940       223960               4    37.22663   \n",
       "3    0.0610    0.967  105.592       157907               4    24.75484   \n",
       "4    0.2130    0.906  114.617       245600               4    21.79874   \n",
       "\n",
       "   sections  decade  duration  \n",
       "0         9      60   173.533  \n",
       "1        10      60   213.613  \n",
       "2        12      60   223.960  \n",
       "3         8      60   157.907  \n",
       "4        14      60   245.600  "
      ]
     },
     "execution_count": 118,
     "metadata": {},
     "output_type": "execute_result"
    }
   ],
   "source": [
    "# Rearrange the column order\n",
    "cols = list(spotify.columns)\n",
    "cols.remove(\"popularity\")\n",
    "cols.insert(0, \"popularity\")\n",
    "spotify = spotify[cols]\n",
    "\n",
    "# Convert popularity and decade to numeric\n",
    "spotify[\"popularity\"] = spotify[\"popularity\"].apply(lambda x: 1 if x==\"Popular\" else 0 if x==\"Unpopular\" else x)\n",
    "spotify[\"decade\"] = spotify[\"decade\"].apply(lambda x: x.strip(\"s\")).astype(int)\n",
    "spotify.head()"
   ]
  },
  {
   "cell_type": "code",
   "execution_count": 119,
   "id": "8cb30926",
   "metadata": {},
   "outputs": [
    {
     "data": {
      "image/png": "[encoded data removed]",
      "text/plain": [
       "<Figure size 720x720 with 1 Axes>"
      ]
     },
     "metadata": {},
     "output_type": "display_data"
    }
   ],
   "source": [
    "# Calculate correlation matrix\n",
    "corr = spotify.corr()\n",
    "\n",
    "# Create mask to remove the mirrored diagonal of the matrix\n",
    "mask = np.zeros_like(corr)\n",
    "mask[np.triu_indices_from(mask)] = True\n",
    "\n",
    "# Plot correlation matrix\n",
    "plt.figure(figsize=(10, 10))\n",
    "with sns.axes_style('white'):\n",
    "    sns.heatmap(np.round(corr, 2), square=True, annot=True, \n",
    "                cbar=False, linewidth=.5, mask=mask)\n",
    "plt.title(\"Correlation Matrix relative Song Popularity\", size=16)\n",
    "plt.xticks(rotation=45, horizontalalignment='right', size=12)\n",
    "plt.yticks(size=12);"
   ]
  },
  {
   "cell_type": "markdown",
   "id": "b9a826ed",
   "metadata": {},
   "source": [
    "The features that are most correlated with song popularity when considering both popular and unpopular songs are:\n",
    "\n",
    "- `instrumentalness` (-0.41)\n",
    "- `danceability` (0.35)\n",
    "- `loudness` (0.29)\n",
    "- `valence` (0.25) and `acousticness` (-0.25)\n",
    "- `energy` (0.20)\n",
    "\n",
    "\n",
    "Features such as `decade`, `duration`, `tempo`, `liveness` and `speechiness` have only minor impact. \n",
    "\n",
    "We can additionally confirm this using A/B tests. We won't cover all of the features but will instead focus on some few in each group; highly and minor correlated. For the purpose of this notebook we choose to test `instrumentalness`, `danceability` and `energy` among the highly correlated features and `duration` and `speechiness` among the feaures with low to little correlation. \n",
    "\n",
    "\n",
    "Since we will conduct the analysis based on popular and unpopular songs, we will split the data into these two groups."
   ]
  },
  {
   "cell_type": "code",
   "execution_count": 120,
   "id": "d1501688",
   "metadata": {},
   "outputs": [
    {
     "data": {
      "text/html": [
       "<div>\n",
       "<style scoped>\n",
       "    .dataframe tbody tr th:only-of-type {\n",
       "        vertical-align: middle;\n",
       "    }\n",
       "\n",
       "    .dataframe tbody tr th {\n",
       "        vertical-align: top;\n",
       "    }\n",
       "\n",
       "    .dataframe thead th {\n",
       "        text-align: right;\n",
       "    }\n",
       "</style>\n",
       "<table border=\"1\" class=\"dataframe\">\n",
       "  <thead>\n",
       "    <tr style=\"text-align: right;\">\n",
       "      <th></th>\n",
       "      <th>popularity</th>\n",
       "      <th>track</th>\n",
       "      <th>artist</th>\n",
       "      <th>danceability</th>\n",
       "      <th>energy</th>\n",
       "      <th>key</th>\n",
       "      <th>loudness</th>\n",
       "      <th>mode</th>\n",
       "      <th>speechiness</th>\n",
       "      <th>acousticness</th>\n",
       "      <th>instrumentalness</th>\n",
       "      <th>liveness</th>\n",
       "      <th>valence</th>\n",
       "      <th>tempo</th>\n",
       "      <th>duration_ms</th>\n",
       "      <th>time_signature</th>\n",
       "      <th>chorus_hit</th>\n",
       "      <th>sections</th>\n",
       "      <th>decade</th>\n",
       "      <th>duration</th>\n",
       "    </tr>\n",
       "  </thead>\n",
       "  <tbody>\n",
       "    <tr>\n",
       "      <th>0</th>\n",
       "      <td>Popular</td>\n",
       "      <td>Jealous Kind Of Fella</td>\n",
       "      <td>Garland Green</td>\n",
       "      <td>0.417</td>\n",
       "      <td>0.620</td>\n",
       "      <td>3</td>\n",
       "      <td>-7.727</td>\n",
       "      <td>Major</td>\n",
       "      <td>0.0403</td>\n",
       "      <td>0.4900</td>\n",
       "      <td>0.000000</td>\n",
       "      <td>0.0779</td>\n",
       "      <td>0.845</td>\n",
       "      <td>185.655</td>\n",
       "      <td>173533</td>\n",
       "      <td>3</td>\n",
       "      <td>32.94975</td>\n",
       "      <td>9</td>\n",
       "      <td>60s</td>\n",
       "      <td>173.533</td>\n",
       "    </tr>\n",
       "    <tr>\n",
       "      <th>7</th>\n",
       "      <td>Popular</td>\n",
       "      <td>Happy Days</td>\n",
       "      <td>Marv Johnson</td>\n",
       "      <td>0.720</td>\n",
       "      <td>0.624</td>\n",
       "      <td>5</td>\n",
       "      <td>-9.086</td>\n",
       "      <td>Minor</td>\n",
       "      <td>0.0473</td>\n",
       "      <td>0.7950</td>\n",
       "      <td>0.000000</td>\n",
       "      <td>0.4880</td>\n",
       "      <td>0.887</td>\n",
       "      <td>119.999</td>\n",
       "      <td>160040</td>\n",
       "      <td>4</td>\n",
       "      <td>30.42891</td>\n",
       "      <td>8</td>\n",
       "      <td>60s</td>\n",
       "      <td>160.040</td>\n",
       "    </tr>\n",
       "    <tr>\n",
       "      <th>9</th>\n",
       "      <td>Popular</td>\n",
       "      <td>I Can Hear Music</td>\n",
       "      <td>The Beach Boys</td>\n",
       "      <td>0.511</td>\n",
       "      <td>0.603</td>\n",
       "      <td>2</td>\n",
       "      <td>-7.637</td>\n",
       "      <td>Major</td>\n",
       "      <td>0.0280</td>\n",
       "      <td>0.0385</td>\n",
       "      <td>0.000002</td>\n",
       "      <td>0.1420</td>\n",
       "      <td>0.685</td>\n",
       "      <td>128.336</td>\n",
       "      <td>157293</td>\n",
       "      <td>4</td>\n",
       "      <td>43.36534</td>\n",
       "      <td>9</td>\n",
       "      <td>60s</td>\n",
       "      <td>157.293</td>\n",
       "    </tr>\n",
       "    <tr>\n",
       "      <th>11</th>\n",
       "      <td>Popular</td>\n",
       "      <td>Ride Away</td>\n",
       "      <td>Roy Orbison</td>\n",
       "      <td>0.520</td>\n",
       "      <td>0.411</td>\n",
       "      <td>9</td>\n",
       "      <td>-12.411</td>\n",
       "      <td>Major</td>\n",
       "      <td>0.0315</td>\n",
       "      <td>0.7860</td>\n",
       "      <td>0.001200</td>\n",
       "      <td>0.1460</td>\n",
       "      <td>0.350</td>\n",
       "      <td>120.290</td>\n",
       "      <td>207573</td>\n",
       "      <td>4</td>\n",
       "      <td>37.54527</td>\n",
       "      <td>9</td>\n",
       "      <td>60s</td>\n",
       "      <td>207.573</td>\n",
       "    </tr>\n",
       "    <tr>\n",
       "      <th>13</th>\n",
       "      <td>Popular</td>\n",
       "      <td>P.T. 109</td>\n",
       "      <td>Jimmy Dean</td>\n",
       "      <td>0.746</td>\n",
       "      <td>0.666</td>\n",
       "      <td>2</td>\n",
       "      <td>-10.408</td>\n",
       "      <td>Major</td>\n",
       "      <td>0.1460</td>\n",
       "      <td>0.5430</td>\n",
       "      <td>0.000000</td>\n",
       "      <td>0.0488</td>\n",
       "      <td>0.840</td>\n",
       "      <td>94.024</td>\n",
       "      <td>192427</td>\n",
       "      <td>4</td>\n",
       "      <td>78.59848</td>\n",
       "      <td>5</td>\n",
       "      <td>60s</td>\n",
       "      <td>192.427</td>\n",
       "    </tr>\n",
       "  </tbody>\n",
       "</table>\n",
       "</div>"
      ],
      "text/plain": [
       "   popularity                  track          artist  danceability  energy  \\\n",
       "0     Popular  Jealous Kind Of Fella   Garland Green         0.417   0.620   \n",
       "7     Popular             Happy Days    Marv Johnson         0.720   0.624   \n",
       "9     Popular       I Can Hear Music  The Beach Boys         0.511   0.603   \n",
       "11    Popular              Ride Away     Roy Orbison         0.520   0.411   \n",
       "13    Popular               P.T. 109      Jimmy Dean         0.746   0.666   \n",
       "\n",
       "    key  loudness   mode  speechiness  acousticness  instrumentalness  \\\n",
       "0     3    -7.727  Major       0.0403        0.4900          0.000000   \n",
       "7     5    -9.086  Minor       0.0473        0.7950          0.000000   \n",
       "9     2    -7.637  Major       0.0280        0.0385          0.000002   \n",
       "11    9   -12.411  Major       0.0315        0.7860          0.001200   \n",
       "13    2   -10.408  Major       0.1460        0.5430          0.000000   \n",
       "\n",
       "    liveness  valence    tempo  duration_ms  time_signature  chorus_hit  \\\n",
       "0     0.0779    0.845  185.655       173533               3    32.94975   \n",
       "7     0.4880    0.887  119.999       160040               4    30.42891   \n",
       "9     0.1420    0.685  128.336       157293               4    43.36534   \n",
       "11    0.1460    0.350  120.290       207573               4    37.54527   \n",
       "13    0.0488    0.840   94.024       192427               4    78.59848   \n",
       "\n",
       "    sections decade  duration  \n",
       "0          9    60s   173.533  \n",
       "7          8    60s   160.040  \n",
       "9          9    60s   157.293  \n",
       "11         9    60s   207.573  \n",
       "13         5    60s   192.427  "
      ]
     },
     "metadata": {},
     "output_type": "display_data"
    },
    {
     "data": {
      "text/html": [
       "<div>\n",
       "<style scoped>\n",
       "    .dataframe tbody tr th:only-of-type {\n",
       "        vertical-align: middle;\n",
       "    }\n",
       "\n",
       "    .dataframe tbody tr th {\n",
       "        vertical-align: top;\n",
       "    }\n",
       "\n",
       "    .dataframe thead th {\n",
       "        text-align: right;\n",
       "    }\n",
       "</style>\n",
       "<table border=\"1\" class=\"dataframe\">\n",
       "  <thead>\n",
       "    <tr style=\"text-align: right;\">\n",
       "      <th></th>\n",
       "      <th>popularity</th>\n",
       "      <th>track</th>\n",
       "      <th>artist</th>\n",
       "      <th>danceability</th>\n",
       "      <th>energy</th>\n",
       "      <th>key</th>\n",
       "      <th>loudness</th>\n",
       "      <th>mode</th>\n",
       "      <th>speechiness</th>\n",
       "      <th>acousticness</th>\n",
       "      <th>instrumentalness</th>\n",
       "      <th>liveness</th>\n",
       "      <th>valence</th>\n",
       "      <th>tempo</th>\n",
       "      <th>duration_ms</th>\n",
       "      <th>time_signature</th>\n",
       "      <th>chorus_hit</th>\n",
       "      <th>sections</th>\n",
       "      <th>decade</th>\n",
       "      <th>duration</th>\n",
       "    </tr>\n",
       "  </thead>\n",
       "  <tbody>\n",
       "    <tr>\n",
       "      <th>1</th>\n",
       "      <td>Unpopular</td>\n",
       "      <td>Initials B.B.</td>\n",
       "      <td>Serge Gainsbourg</td>\n",
       "      <td>0.498</td>\n",
       "      <td>0.505</td>\n",
       "      <td>3</td>\n",
       "      <td>-12.475</td>\n",
       "      <td>Major</td>\n",
       "      <td>0.0337</td>\n",
       "      <td>0.018</td>\n",
       "      <td>0.107000</td>\n",
       "      <td>0.176</td>\n",
       "      <td>0.797</td>\n",
       "      <td>101.801</td>\n",
       "      <td>213613</td>\n",
       "      <td>4</td>\n",
       "      <td>48.82510</td>\n",
       "      <td>10</td>\n",
       "      <td>60s</td>\n",
       "      <td>213.613</td>\n",
       "    </tr>\n",
       "    <tr>\n",
       "      <th>2</th>\n",
       "      <td>Unpopular</td>\n",
       "      <td>Melody Twist</td>\n",
       "      <td>Lord Melody</td>\n",
       "      <td>0.657</td>\n",
       "      <td>0.649</td>\n",
       "      <td>5</td>\n",
       "      <td>-13.392</td>\n",
       "      <td>Major</td>\n",
       "      <td>0.0380</td>\n",
       "      <td>0.846</td>\n",
       "      <td>0.000004</td>\n",
       "      <td>0.119</td>\n",
       "      <td>0.908</td>\n",
       "      <td>115.940</td>\n",
       "      <td>223960</td>\n",
       "      <td>4</td>\n",
       "      <td>37.22663</td>\n",
       "      <td>12</td>\n",
       "      <td>60s</td>\n",
       "      <td>223.960</td>\n",
       "    </tr>\n",
       "    <tr>\n",
       "      <th>3</th>\n",
       "      <td>Unpopular</td>\n",
       "      <td>Mi Bomba Sonó</td>\n",
       "      <td>Celia Cruz</td>\n",
       "      <td>0.590</td>\n",
       "      <td>0.545</td>\n",
       "      <td>7</td>\n",
       "      <td>-12.058</td>\n",
       "      <td>Minor</td>\n",
       "      <td>0.1040</td>\n",
       "      <td>0.706</td>\n",
       "      <td>0.024600</td>\n",
       "      <td>0.061</td>\n",
       "      <td>0.967</td>\n",
       "      <td>105.592</td>\n",
       "      <td>157907</td>\n",
       "      <td>4</td>\n",
       "      <td>24.75484</td>\n",
       "      <td>8</td>\n",
       "      <td>60s</td>\n",
       "      <td>157.907</td>\n",
       "    </tr>\n",
       "    <tr>\n",
       "      <th>4</th>\n",
       "      <td>Unpopular</td>\n",
       "      <td>Uravu Solla</td>\n",
       "      <td>P. Susheela</td>\n",
       "      <td>0.515</td>\n",
       "      <td>0.765</td>\n",
       "      <td>11</td>\n",
       "      <td>-3.515</td>\n",
       "      <td>Minor</td>\n",
       "      <td>0.1240</td>\n",
       "      <td>0.857</td>\n",
       "      <td>0.000872</td>\n",
       "      <td>0.213</td>\n",
       "      <td>0.906</td>\n",
       "      <td>114.617</td>\n",
       "      <td>245600</td>\n",
       "      <td>4</td>\n",
       "      <td>21.79874</td>\n",
       "      <td>14</td>\n",
       "      <td>60s</td>\n",
       "      <td>245.600</td>\n",
       "    </tr>\n",
       "    <tr>\n",
       "      <th>5</th>\n",
       "      <td>Unpopular</td>\n",
       "      <td>Beat n. 3</td>\n",
       "      <td>Ennio Morricone</td>\n",
       "      <td>0.697</td>\n",
       "      <td>0.673</td>\n",
       "      <td>0</td>\n",
       "      <td>-10.573</td>\n",
       "      <td>Major</td>\n",
       "      <td>0.0266</td>\n",
       "      <td>0.714</td>\n",
       "      <td>0.919000</td>\n",
       "      <td>0.122</td>\n",
       "      <td>0.778</td>\n",
       "      <td>112.117</td>\n",
       "      <td>167667</td>\n",
       "      <td>4</td>\n",
       "      <td>65.48604</td>\n",
       "      <td>7</td>\n",
       "      <td>60s</td>\n",
       "      <td>167.667</td>\n",
       "    </tr>\n",
       "  </tbody>\n",
       "</table>\n",
       "</div>"
      ],
      "text/plain": [
       "  popularity          track            artist  danceability  energy  key  \\\n",
       "1  Unpopular  Initials B.B.  Serge Gainsbourg         0.498   0.505    3   \n",
       "2  Unpopular   Melody Twist       Lord Melody         0.657   0.649    5   \n",
       "3  Unpopular  Mi Bomba Sonó        Celia Cruz         0.590   0.545    7   \n",
       "4  Unpopular    Uravu Solla       P. Susheela         0.515   0.765   11   \n",
       "5  Unpopular      Beat n. 3   Ennio Morricone         0.697   0.673    0   \n",
       "\n",
       "   loudness   mode  speechiness  acousticness  instrumentalness  liveness  \\\n",
       "1   -12.475  Major       0.0337         0.018          0.107000     0.176   \n",
       "2   -13.392  Major       0.0380         0.846          0.000004     0.119   \n",
       "3   -12.058  Minor       0.1040         0.706          0.024600     0.061   \n",
       "4    -3.515  Minor       0.1240         0.857          0.000872     0.213   \n",
       "5   -10.573  Major       0.0266         0.714          0.919000     0.122   \n",
       "\n",
       "   valence    tempo  duration_ms  time_signature  chorus_hit  sections decade  \\\n",
       "1    0.797  101.801       213613               4    48.82510        10    60s   \n",
       "2    0.908  115.940       223960               4    37.22663        12    60s   \n",
       "3    0.967  105.592       157907               4    24.75484         8    60s   \n",
       "4    0.906  114.617       245600               4    21.79874        14    60s   \n",
       "5    0.778  112.117       167667               4    65.48604         7    60s   \n",
       "\n",
       "   duration  \n",
       "1   213.613  \n",
       "2   223.960  \n",
       "3   157.907  \n",
       "4   245.600  \n",
       "5   167.667  "
      ]
     },
     "metadata": {},
     "output_type": "display_data"
    },
    {
     "name": "stdout",
     "output_type": "stream",
     "text": [
      "Number of popular songs:   20548\n",
      "Number of unpopular songs: 20551\n"
     ]
    }
   ],
   "source": [
    "# Undo the convertion on popularity and decade to facilitate interpretation\n",
    "spotify[\"popularity\"] = spotify[\"popularity\"].apply(lambda x: \"Popular\" if x==1 else \"Unpopular\" if x==0 else x)\n",
    "spotify[\"decade\"] = spotify[\"decade\"].apply(lambda x: str(x)+'s')\n",
    "\n",
    "# Split data into popular and unpopular songs\n",
    "popular = spotify[spotify['popularity'] == 'Popular']\n",
    "unpopular = spotify[spotify['popularity'] == 'Unpopular']\n",
    "\n",
    "# Display the result\n",
    "display(popular.head())\n",
    "display(unpopular.head())\n",
    "\n",
    "print(f\"Number of popular songs:   {len(popular)}\")\n",
    "print(f\"Number of unpopular songs: {len(unpopular)}\")"
   ]
  },
  {
   "cell_type": "markdown",
   "id": "7fee6cc0",
   "metadata": {},
   "source": [
    "With around 20.000 songs in each group, the dataset is more than large enough for hypothesis testing."
   ]
  },
  {
   "cell_type": "markdown",
   "id": "c74c7d9e",
   "metadata": {},
   "source": [
    "<br><br>\n",
    "\n",
    "<a name=\"instrumentalness\"></a>\n",
    "\n",
    "\n",
    "## [Instrumentalness](#top)\n",
    "\n",
    "Instrumentalness was highly *negatively* correlated with song popularity. This means that songs that are popular have in general lower instrumentalness. This maks intuitive sense as most songs you hear on the popular radio stations are not instrumental. Let's very this statistically using an A/B test. "
   ]
  },
  {
   "cell_type": "code",
   "execution_count": 122,
   "id": "bd50d6ee",
   "metadata": {},
   "outputs": [
    {
     "data": {
      "image/png": "[encoded data removed]",
      "text/plain": [
       "<Figure size 720x360 with 1 Axes>"
      ]
     },
     "metadata": {},
     "output_type": "display_data"
    },
    {
     "name": "stdout",
     "output_type": "stream",
     "text": [
      "DescribeResult(nobs=20548, minmax=(0.0, 0.982), mean=0.03069373979560055, variance=0.016857409891644796, skewness=5.196960615518452, kurtosis=27.571067970038175)\n",
      "DescribeResult(nobs=20551, minmax=(0.0, 1.0), mean=0.27809455669359157, variance=0.13677959632311393, skewness=0.824903938676398, kurtosis=-1.1009584684730493) \n",
      "\n",
      "ShapiroResult(statistic=0.25121474266052246, pvalue=0.0)\n",
      "ShapiroResult(statistic=0.7122498750686646, pvalue=0.0)\n"
     ]
    }
   ],
   "source": [
    "# Plot instrumentalness by popularity\n",
    "plt.figure(figsize=(10,5))\n",
    "plt.hist(popular['instrumentalness'], alpha=.5, bins=50, label='Popular')\n",
    "plt.hist(unpopular['instrumentalness'], alpha=.5, bins=50, label='Unpopular')\n",
    "\n",
    "plt.xlabel('Instrumentalness', size=16)\n",
    "plt.title('Instrumentalness by popularity', size=18)\n",
    "plt.legend(loc='best')\n",
    "plt.show();\n",
    "\n",
    "# Calculate skewness and kurtosis\n",
    "print(stats.describe(popular['instrumentalness']))\n",
    "print(stats.describe(unpopular['instrumentalness']), '\\n')\n",
    "\n",
    "# Test for normality\n",
    "print(stats.shapiro(popular['instrumentalness']))\n",
    "print(stats.shapiro(unpopular['instrumentalness']))"
   ]
  },
  {
   "cell_type": "markdown",
   "id": "6277cad0",
   "metadata": {},
   "source": [
    "Both skewness and kurtosis are above the threshold of ±3 for popular songs which indicates non-normality. A visual inspection confirms this. Although unpopular songs have acceptable values, we choose a Kruskal-Wallis test for testing the null hypothesis.\n",
    "\n",
    "\n",
    "**State the null and alternative hypothesis**\n",
    "\n",
    "- The *null* hypothesis is that there is *no* significant difference, on average, in instrumentalness between popular and unpopular songs. \n",
    "- The *alternative* hypothesis is that there *is* a significant difference, on average, in instrumentalness between popular and unpopular songs. \n",
    "\n",
    "\n",
    "#### Test the *null* hypothesis"
   ]
  },
  {
   "cell_type": "code",
   "execution_count": 123,
   "id": "acac4642",
   "metadata": {},
   "outputs": [
    {
     "data": {
      "text/plain": [
       "KruskalResult(statistic=7265.829685757234, pvalue=0.0)"
      ]
     },
     "execution_count": 123,
     "metadata": {},
     "output_type": "execute_result"
    }
   ],
   "source": [
    "# Test the null hypothesis with Kruskal-Wallis test\n",
    "stats.kruskal(popular['instrumentalness'],\n",
    "              unpopular['instrumentalness'])"
   ]
  },
  {
   "cell_type": "markdown",
   "id": "1edee2c3",
   "metadata": {},
   "source": [
    "We can choose a confidence level of 99% for the confidence interval due to the low p-value. The high t-statistics indicate a large difference between the groups. Let's calculate the confidence interval. "
   ]
  },
  {
   "cell_type": "code",
   "execution_count": 124,
   "id": "0a056b1a",
   "metadata": {},
   "outputs": [],
   "source": [
    "def get_ci(array_1, array_2, cl=0.95):\n",
    "    \"\"\" Function for calculating the difference in means between two distributions.\n",
    "        cl is confidence level. Deafult is 95%\n",
    "    \"\"\"\n",
    "    \n",
    "    # Get z score depending on the confidence level\n",
    "    if cl == 0.90:\n",
    "        z = 1.645\n",
    "    elif cl == 0.95:\n",
    "        z = 1.96\n",
    "    elif cl == 0.99:\n",
    "        z = 2.58\n",
    "    else:\n",
    "        raise Exception(\"Specify an adequate confidence level (0.90, 0.95 or 0.99)\")\n",
    "    \n",
    "    # Calculate Margin of Error\n",
    "    MOE = z * math.sqrt((array_1.var()/len(array_1))+(array_2.var()/len(array_2)))\n",
    "    \n",
    "    # Lower and Upper confidence intervals\n",
    "    mean1 = array_1.mean()\n",
    "    mean2 = array_2.mean()\n",
    "    mean_diff = mean2 - mean1\n",
    "    ci_lower = mean_diff - MOE\n",
    "    ci_upper = mean_diff + MOE\n",
    "    \n",
    "    print(\"The difference in means at the {:.0%} confidence level (two-tail) is between {:.3f} and {:.3f}.\".format(\n",
    "        cl, ci_lower, ci_upper))\n",
    "    print(f\"\\nMeans:\\n{mean1:.5f}\\n{mean2:.5f}\")"
   ]
  },
  {
   "cell_type": "code",
   "execution_count": 125,
   "id": "109f420a",
   "metadata": {},
   "outputs": [
    {
     "name": "stdout",
     "output_type": "stream",
     "text": [
      "The difference in means at the 99% confidence level (two-tail) is between 0.240 and 0.254.\n",
      "\n",
      "Means:\n",
      "0.03069\n",
      "0.27809\n"
     ]
    }
   ],
   "source": [
    "# Calculate confidence interval\n",
    "get_ci(popular['instrumentalness'], unpopular['instrumentalness'], cl=0.99)"
   ]
  },
  {
   "cell_type": "markdown",
   "id": "e8ec04b8",
   "metadata": {},
   "source": [
    "We reject the null. There *is* a significant difference in mean between the two groups. *With 99% confidence, popular songs have between 0.24 and 0.25 points lower instrumentalness than unpopular songs*. Although the numbers are not equal to before, it confirms our earlier observations. \n",
    "\n",
    "\n",
    "#### Visualise the difference in instrumentalness"
   ]
  },
  {
   "cell_type": "code",
   "execution_count": 155,
   "id": "5b963395",
   "metadata": {},
   "outputs": [
    {
     "data": {
      "image/png": "[encoded data removed]",
      "text/plain": [
       "<Figure size 504x360 with 1 Axes>"
      ]
     },
     "metadata": {},
     "output_type": "display_data"
    }
   ],
   "source": [
    "plt.figure(figsize=(7, 5))\n",
    "p = sns.pointplot(data=[popular['instrumentalness'], \n",
    "                        unpopular['instrumentalness']],\n",
    "                 join=False)\n",
    "p.set(xticklabels=['Popular', 'Unpopular'])\n",
    "plt.ylabel('Instrumentalness', size=14)\n",
    "plt.title('Difference in Means for Instrumentalness', size=18);"
   ]
  },
  {
   "cell_type": "markdown",
   "id": "b788f1a9",
   "metadata": {},
   "source": [
    "Visually the difference is clear, with means at around 0.03 and 0.28. Unpopular songs are on average far more instrumental (around 8 times more) than those that are popular. "
   ]
  },
  {
   "cell_type": "markdown",
   "id": "ed3232b8",
   "metadata": {},
   "source": [
    "<br><br>\n",
    "\n",
    "<a name=\"danceability\"></a>\n",
    "\n",
    "\n",
    "## [Danceability](#top)\n",
    "\n",
    "\n",
    "Danceability was positively correlated with song popularity. That means that popular songs tend to be more danceable. This also makese sense based on the songs you hear on mainstram radio stations. \n",
    "\n",
    "Start by displaying danceability by popularity using a histogram for an initial visual inspection."
   ]
  },
  {
   "cell_type": "code",
   "execution_count": 129,
   "id": "1c50f194",
   "metadata": {},
   "outputs": [
    {
     "data": {
      "image/png": "[encoded data removed]",
      "text/plain": [
       "<Figure size 720x360 with 1 Axes>"
      ]
     },
     "metadata": {},
     "output_type": "display_data"
    }
   ],
   "source": [
    "# Plot danceability by popularity\n",
    "plt.figure(figsize=(10,5))\n",
    "plt.hist(popular['danceability'], alpha=.5, bins=50, label='Popular')\n",
    "plt.hist(unpopular['danceability'], alpha=.5, bins=50, label='Unpopular')\n",
    "\n",
    "plt.xlabel('Danceability', size=16)\n",
    "plt.title('Danceability by popularity', size=18)\n",
    "plt.legend(loc='best')\n",
    "\n",
    "plt.show();"
   ]
  },
  {
   "cell_type": "markdown",
   "id": "25803152",
   "metadata": {},
   "source": [
    "Both distributions seem to be close to normally distributed by a visual inspection. Let's calculate some statistics and test for normality using the Shapiro-Wilk test. Although the p-value may not be accurate for samples larger than 5000, the test statistics should be accurate and help us provide some indications on where to go next. "
   ]
  },
  {
   "cell_type": "code",
   "execution_count": 132,
   "id": "d145b9fb",
   "metadata": {},
   "outputs": [
    {
     "name": "stdout",
     "output_type": "stream",
     "text": [
      "DescribeResult(nobs=20548, minmax=(0.0, 0.988), mean=0.6012118357017714, variance=0.02295889458127986, skewness=-0.2524126963655955, kurtosis=-0.21990301465001094)\n",
      "DescribeResult(nobs=20551, minmax=(0.0576, 0.978), mean=0.47816293124422166, variance=0.03270260210418598, skewness=-0.025951179048799358, kurtosis=-0.5963915009919534) \n",
      "\n",
      "ShapiroResult(statistic=0.994170069694519, pvalue=1.1722831274553891e-27)\n",
      "ShapiroResult(statistic=0.992752730846405, pvalue=1.5046010777248298e-30)\n"
     ]
    }
   ],
   "source": [
    "# Calculate skewness and kurtosis\n",
    "print(stats.describe(popular['danceability']))\n",
    "print(stats.describe(unpopular['danceability']), '\\n')\n",
    "\n",
    "# Test for normality\n",
    "print(stats.shapiro(popular['danceability']))\n",
    "print(stats.shapiro(unpopular['danceability']))"
   ]
  },
  {
   "cell_type": "markdown",
   "id": "18b9014f",
   "metadata": {},
   "source": [
    "Both skewness and kurtosis are well below the threshold of ±3 for normality, while the test statistics is very close to 1. Great! We can more forward with an independet t-test.\n",
    "\n",
    "**State the null and alternative hypothesis**\n",
    "\n",
    "- The *null* hypothesis is that there is *no* significant difference in danceability, on average, between popular and unpopular songs.\n",
    "- The *alternative* hypothesis is that there *is* a significant difference in danceability, on average, between popular and unpopular songs.\n",
    "\n",
    "\n",
    "#### Test the *null* hypothesis"
   ]
  },
  {
   "cell_type": "code",
   "execution_count": 133,
   "id": "c8592e04",
   "metadata": {},
   "outputs": [
    {
     "data": {
      "text/plain": [
       "Ttest_indResult(statistic=74.76497030046097, pvalue=0.0)"
      ]
     },
     "execution_count": 133,
     "metadata": {},
     "output_type": "execute_result"
    }
   ],
   "source": [
    "# Conduct the t-test\n",
    "stats.ttest_ind(popular['danceability'],\n",
    "                unpopular['danceability'])"
   ]
  },
  {
   "cell_type": "markdown",
   "id": "0ba6965b",
   "metadata": {},
   "source": [
    "The p-value is very low. We can thus go with a 99% confidence level when calculating the confidence interval."
   ]
  },
  {
   "cell_type": "code",
   "execution_count": 134,
   "id": "180d172e",
   "metadata": {},
   "outputs": [
    {
     "name": "stdout",
     "output_type": "stream",
     "text": [
      "The difference in means at the 99% confidence level (two-tail) is between -0.127 and -0.119.\n",
      "\n",
      "Means:\n",
      "0.60121\n",
      "0.47816\n"
     ]
    }
   ],
   "source": [
    "# Calculate confidence interval and means\n",
    "get_ci(popular['danceability'], unpopular['danceability'], cl=0.99)"
   ]
  },
  {
   "cell_type": "markdown",
   "id": "ac2eaf0a",
   "metadata": {},
   "source": [
    "*We can reject the null. With 99% confidence, popular songs have on average between 0.12 and 0.13 higher danceability scores than unpopular songs.* This is equivalent to a difference of around 25%.\n",
    "\n",
    "\n",
    "#### Visualise the difference in danceability\n",
    "\n",
    "It can be difficult to imagine this average difference just looking at the numbers. Below plot makes this slightly clearer."
   ]
  },
  {
   "cell_type": "code",
   "execution_count": 156,
   "id": "e51b8905",
   "metadata": {},
   "outputs": [
    {
     "data": {
      "image/png": "[encoded data removed]",
      "text/plain": [
       "<Figure size 504x360 with 1 Axes>"
      ]
     },
     "metadata": {},
     "output_type": "display_data"
    }
   ],
   "source": [
    "plt.figure(figsize=(7, 5))\n",
    "p = sns.pointplot(data=[popular['danceability'], \n",
    "                        unpopular['danceability']],\n",
    "                 join=False)\n",
    "p.set(xticklabels=['Popular', 'Unpopular'])\n",
    "plt.ylabel('Danceability', size=14)\n",
    "plt.title('Difference in Means for Danceability', size=18);"
   ]
  },
  {
   "cell_type": "markdown",
   "id": "d72aea53",
   "metadata": {},
   "source": [
    "Here we can visually see that the average danseability for popular songs is significantly higher (at 0.60) compared with unpopular (0.48) songs. Note the small confidence intervals (vertical lines through the dots which you barely see) - they're a result of the large sample size which allows us to calculate the difference more accurately. \n",
    "\n",
    "\n",
    "<br><br>\n",
    "\n",
    "<a name=\"energy\"></a>\n",
    "\n",
    "\n",
    "## [Energy](#top)\n",
    "\n",
    "\n",
    "The energy level had a fairly high positive correlation among popular songs. This means that popular songs have in general higher enery level than those that are not. \n"
   ]
  },
  {
   "cell_type": "code",
   "execution_count": 140,
   "id": "70fdff5b",
   "metadata": {},
   "outputs": [
    {
     "data": {
      "image/png": "[encoded data removed]",
      "text/plain": [
       "<Figure size 720x360 with 1 Axes>"
      ]
     },
     "metadata": {},
     "output_type": "display_data"
    },
    {
     "name": "stdout",
     "output_type": "stream",
     "text": [
      "DescribeResult(nobs=20548, minmax=(0.0181, 0.997), mean=0.6242916488222697, variance=0.03940703746274093, skewness=-0.3484507320013295, kurtosis=-0.5913161577042674)\n",
      "DescribeResult(nobs=20551, minmax=(0.000251, 1.0), mean=0.5348029597586493, variance=0.08423108898177896, skewness=-0.0645874449705946, kurtosis=-1.1823820620299565) \n",
      "\n",
      "ShapiroResult(statistic=0.97867751121521, pvalue=0.0)\n",
      "ShapiroResult(statistic=0.9531692266464233, pvalue=0.0)\n"
     ]
    }
   ],
   "source": [
    "# Plot energy by popularity\n",
    "plt.figure(figsize=(10,5))\n",
    "plt.hist(popular['energy'], alpha=.5, bins=50, label='Popular')\n",
    "plt.hist(unpopular['energy'], alpha=.5, bins=50, label='Unpopular')\n",
    "\n",
    "plt.xlabel('Energy', size=16)\n",
    "plt.title('Energy by popularity', size=18)\n",
    "plt.legend(loc='best')\n",
    "plt.show();\n",
    "\n",
    "# Calculate skewness and kurtosis\n",
    "print(stats.describe(popular['energy']))\n",
    "print(stats.describe(unpopular['energy']), '\\n')\n",
    "\n",
    "# Test for normality\n",
    "print(stats.shapiro(popular['energy']))\n",
    "print(stats.shapiro(unpopular['energy']))"
   ]
  },
  {
   "cell_type": "markdown",
   "id": "d820d272",
   "metadata": {},
   "source": [
    "\n",
    "A visual inspection seem to indicate that the most energetic songs are unpopular (energy level at or close to 1). Popular songs are still clustered in the higher end with most energetic songs scoring around 0.5 and 0.8. Popular songs are fairly normally distributed, while unpopular are not.\n",
    "\n",
    "Although skewness and kurtosis indicate that both distributions are normal, the unpopular songs visuals are not convincing. We will thus go with Kruskal-Wallis non-parametric test to be on the safe side. The sample size is with good margin large enough. \n",
    "\n",
    "<br>\n",
    "\n",
    "**State the null and alternative hypothesis**\n",
    "\n",
    "- The *null* hypothesis is that there is *no* significant difference, on average, in energy level between popular and unpopular songs. \n",
    "- The *alternative* hypothesis is that there *is* a significant difference, on average, in energy level between popular and unpopular songs. \n",
    "\n",
    "\n",
    "#### Test the *null* hypothesis"
   ]
  },
  {
   "cell_type": "code",
   "execution_count": 141,
   "id": "83bcc1bd",
   "metadata": {},
   "outputs": [
    {
     "data": {
      "text/plain": [
       "KruskalResult(statistic=904.2689008936939, pvalue=1.15828492943128e-198)"
      ]
     },
     "execution_count": 141,
     "metadata": {},
     "output_type": "execute_result"
    }
   ],
   "source": [
    "# Run t-test\n",
    "stats.kruskal(popular['energy'],\n",
    "              unpopular['energy'])"
   ]
  },
  {
   "cell_type": "code",
   "execution_count": 142,
   "id": "030155a6",
   "metadata": {},
   "outputs": [
    {
     "name": "stdout",
     "output_type": "stream",
     "text": [
      "The difference in means at the 99% confidence level (two-tail) is between -0.096 and -0.083.\n",
      "\n",
      "Means:\n",
      "0.62429\n",
      "0.53480\n"
     ]
    }
   ],
   "source": [
    "# Calculate confidence interval. We use a 99% confidence level du to the very low p-value\n",
    "get_ci(popular['energy'], unpopular['energy'], cl=.99)"
   ]
  },
  {
   "cell_type": "markdown",
   "id": "8ddf0b4d",
   "metadata": {},
   "source": [
    "*We reject the null. With 99% confidence, popular songs have on average between 0.08 and 0.1 higher energy level than unpopular songs.* A difference of around 17%. \n",
    "\n",
    "\n",
    "#### Visualise the difference in energy level"
   ]
  },
  {
   "cell_type": "code",
   "execution_count": 157,
   "id": "46140a81",
   "metadata": {},
   "outputs": [
    {
     "data": {
      "image/png": "[encoded data removed]",
      "text/plain": [
       "<Figure size 504x360 with 1 Axes>"
      ]
     },
     "metadata": {},
     "output_type": "display_data"
    }
   ],
   "source": [
    "plt.figure(figsize=(7, 5))\n",
    "p = sns.pointplot(data=[popular['energy'], \n",
    "                        unpopular['energy']],\n",
    "                 join=False)\n",
    "p.set(xticklabels=['Popular', 'Unpopular'])\n",
    "plt.ylabel('Energy', size=14)\n",
    "plt.title('Difference in Means for Energy', size=18);"
   ]
  },
  {
   "cell_type": "markdown",
   "id": "4b566aa8",
   "metadata": {},
   "source": [
    "Above pointplot visually displays how the average energy level for popular songs (0.62) is significantly higher than for unpopular songs (0.53). "
   ]
  },
  {
   "cell_type": "markdown",
   "id": "40c43bf4",
   "metadata": {},
   "source": [
    "<br><br>\n",
    "\n",
    "\n",
    "<a name=\"duration\"></a>\n",
    "\n",
    "\n",
    "## [Duration](#top)\n",
    "\n",
    "\n",
    "Duration had a very low negative correlation with song popularity. \n",
    "\n",
    "Start by plotting the duration distribution, split by popularity. As the right tail is very long (the longest song is around 70 minutes, or over 4000 seconds), we can limit the x-axis at 1000 seconds to help with interpretation.  "
   ]
  },
  {
   "cell_type": "code",
   "execution_count": 162,
   "id": "12cf6cd8",
   "metadata": {},
   "outputs": [
    {
     "name": "stdout",
     "output_type": "stream",
     "text": [
      "Number of songs that are longer than 1,000 seconds: 134\n"
     ]
    }
   ],
   "source": [
    "print(f\"Number of songs that are longer than 1,000 seconds: {spotify[spotify['duration']>1000].shape[0]}\")"
   ]
  },
  {
   "cell_type": "code",
   "execution_count": 144,
   "id": "8b9da4d9",
   "metadata": {},
   "outputs": [
    {
     "data": {
      "image/png": "[encoded data removed]",
      "text/plain": [
       "<Figure size 720x360 with 1 Axes>"
      ]
     },
     "metadata": {},
     "output_type": "display_data"
    },
    {
     "name": "stdout",
     "output_type": "stream",
     "text": [
      "DescribeResult(nobs=20548, minmax=(46.893, 1561.133), mean=226.09435414638892, variance=4327.174919910735, skewness=2.231968165242757, kurtosis=21.221058623337363)\n",
      "DescribeResult(nobs=20551, minmax=(15.168, 4170.227), mean=243.65537423969636, variance=23825.402318643053, skewness=5.933831818977015, kurtosis=83.22764209773909) \n",
      "\n",
      "ShapiroResult(statistic=0.8957380056381226, pvalue=0.0)\n",
      "ShapiroResult(statistic=0.6636985540390015, pvalue=0.0)\n"
     ]
    }
   ],
   "source": [
    "# Plot duration by popularity\n",
    "plt.figure(figsize=(10,5))\n",
    "plt.hist(popular['duration'], alpha=.5, bins=50, label='Popular')\n",
    "plt.hist(unpopular['duration'], alpha=.5, bins=50, label='Unpopular')\n",
    "\n",
    "plt.xlabel('Duration', size=16)\n",
    "plt.xlim(xmin=0, xmax=1000)\n",
    "plt.title('Duration in seconds by popularity', size=18)\n",
    "plt.legend(loc='best')\n",
    "plt.show();\n",
    "\n",
    "# Calculate skewness and kurtosis\n",
    "print(stats.describe(popular['duration']))\n",
    "print(stats.describe(unpopular['duration']), '\\n')\n",
    "\n",
    "# Test for normality\n",
    "print(stats.shapiro(popular['duration']))\n",
    "print(stats.shapiro(unpopular['duration']))"
   ]
  },
  {
   "cell_type": "markdown",
   "id": "a68a5aa5",
   "metadata": {},
   "source": [
    "Both skewness, kurtosis and a visual inspection indicate that neither of the distributions are normal. \n",
    "\n",
    "\n",
    "**State the null and alternative hypothesis**\n",
    "\n",
    "- The *null* hypothesis is that there is *no* significant difference in mean song duration between popular and unpopular songs.  \n",
    "- The *alternative* hypothesis is that there *is* a significant difference in mean song duration between popular and unpopular songs.  \n",
    "\n",
    "Use the Kruskal-Wallis test to test the null.\n",
    "\n",
    "#### Test the *null* hypothesis"
   ]
  },
  {
   "cell_type": "code",
   "execution_count": 145,
   "id": "374d8393",
   "metadata": {},
   "outputs": [
    {
     "data": {
      "text/plain": [
       "KruskalResult(statistic=18.9782431636515, pvalue=1.3221751844007864e-05)"
      ]
     },
     "execution_count": 145,
     "metadata": {},
     "output_type": "execute_result"
    }
   ],
   "source": [
    "# Test the null\n",
    "stats.kruskal(popular['duration'],\n",
    "              unpopular['duration'])"
   ]
  },
  {
   "cell_type": "code",
   "execution_count": 146,
   "id": "ddf11a2a",
   "metadata": {},
   "outputs": [
    {
     "name": "stdout",
     "output_type": "stream",
     "text": [
      "The difference in means at the 99% confidence level (two-tail) is between 14.541 and 20.581.\n",
      "\n",
      "Means:\n",
      "226.09435\n",
      "243.65537\n"
     ]
    }
   ],
   "source": [
    "# Calculate confidence interval with a 99% confidence level\n",
    "get_ci(popular['duration'], unpopular['duration'], cl=0.99)"
   ]
  },
  {
   "cell_type": "markdown",
   "id": "02052c22",
   "metadata": {},
   "source": [
    "We reject the null. There is a significant difference in duration between popular and unpopular songs. *With 99% confidence, popular songs are on average between 15 and 21 seconds shorter than unpopular songs.* \n",
    "\n",
    "This is not much, but I still find it reasonable that popular songs are at least slightly shorter than unpopular songs, on average. Few songs that are played on mainstream media platoforms are very long. Let's visually display this difference below. \n",
    "\n",
    "\n",
    "#### Visualise the difference in duration\n",
    "\n",
    "A plot helps us visually understand the difference in means. The average duration for popular songs is 226 seconds (less than 4 minutes) while 244 for unpopular. "
   ]
  },
  {
   "cell_type": "code",
   "execution_count": 158,
   "id": "fb19581e",
   "metadata": {
    "scrolled": true
   },
   "outputs": [
    {
     "data": {
      "image/png": "[encoded data removed]",
      "text/plain": [
       "<Figure size 504x360 with 1 Axes>"
      ]
     },
     "metadata": {},
     "output_type": "display_data"
    }
   ],
   "source": [
    "plt.figure(figsize=(7, 5))\n",
    "p = sns.pointplot(data=[popular['duration'], \n",
    "                        unpopular['duration']],\n",
    "                 join=False)\n",
    "p.set(xticklabels=['Popular', 'Unpopular'])\n",
    "plt.ylabel('Duration', size=14)\n",
    "plt.title('Difference in Means for Duration', size=18);"
   ]
  },
  {
   "cell_type": "markdown",
   "id": "bd51f17a",
   "metadata": {},
   "source": [
    "We initially found a weak negative correlation for song duration using a correlation matrix. The A/B test verifies these results by confirming that there *is* a difference. However, the difference is fairly small at around 8%. \n",
    "\n",
    "\n",
    "\n",
    "<br><br>\n",
    "\n",
    "<a name=\"speechiness\"></a>\n",
    "\n",
    "\n",
    "## [Speechiness](#top)\n",
    "\n",
    "\n",
    "Speechines had a very weak negative correlation in our initial analysis. "
   ]
  },
  {
   "cell_type": "code",
   "execution_count": 148,
   "id": "3e0813d6",
   "metadata": {},
   "outputs": [
    {
     "data": {
      "image/png": "[encoded data removed]",
      "text/plain": [
       "<Figure size 720x360 with 1 Axes>"
      ]
     },
     "metadata": {},
     "output_type": "display_data"
    },
    {
     "name": "stdout",
     "output_type": "stream",
     "text": [
      "DescribeResult(nobs=20548, minmax=(0.0, 0.95), mean=0.06942718512750633, variance=0.005906813763293316, skewness=3.2974065853613164, kurtosis=13.700040400575247)\n",
      "DescribeResult(nobs=20551, minmax=(0.0223, 0.96), mean=0.07647677485280521, variance=0.008897069031855826, skewness=5.1384851470838315, kurtosis=34.92671700665262) \n",
      "\n",
      "ShapiroResult(statistic=0.5644060373306274, pvalue=0.0)\n",
      "ShapiroResult(statistic=0.47629427909851074, pvalue=0.0)\n"
     ]
    }
   ],
   "source": [
    "# Plot speechiness by popularity\n",
    "plt.figure(figsize=(10,5))\n",
    "plt.hist(popular['speechiness'], alpha=.5, bins=50, label='Popular')\n",
    "plt.hist(unpopular['speechiness'], alpha=.5, bins=50, label='Unpopular')\n",
    "\n",
    "plt.xlabel('Speechiness', size=16)\n",
    "plt.title('Speechiness by popularity', size=18)\n",
    "plt.legend(loc='best')\n",
    "plt.show();\n",
    "\n",
    "# Calculate skewness and kurtosis\n",
    "print(stats.describe(popular['speechiness']))\n",
    "print(stats.describe(unpopular['speechiness']), '\\n')\n",
    "\n",
    "# Test for normality\n",
    "print(stats.shapiro(popular['speechiness']))\n",
    "print(stats.shapiro(unpopular['speechiness']))"
   ]
  },
  {
   "cell_type": "markdown",
   "id": "a0c11535",
   "metadata": {},
   "source": [
    "\n",
    "There is no clear visual difference between popular and unpopular songs. They all make up of little speech. It seems like speech-rich content such as audio books and podcasts have been excluded from the dataset during data collection.\n",
    "\n",
    "None of the distributions seem normal by a visual inspection, and both skewness and kurtosis indicate the same. We will thus use Kruskal-Wallis test to test the null hypothesis. \n",
    "\n",
    "\n",
    "**State the null and alternative hypothesis**\n",
    "\n",
    "- The *null* hypothesis is that there is *no* significant difference, on average, in speechiness between popular and unpopular songs. \n",
    "- The *alternative* hypothesis is that there *is* a significant difference, on average, in speechiness between popular and unpopular songs. \n",
    "\n",
    "\n",
    "#### Test the *null* hypothesis"
   ]
  },
  {
   "cell_type": "code",
   "execution_count": 149,
   "id": "a7f00baf",
   "metadata": {},
   "outputs": [
    {
     "data": {
      "text/plain": [
       "KruskalResult(statistic=697.3928255038659, pvalue=1.1031965192407093e-153)"
      ]
     },
     "execution_count": 149,
     "metadata": {},
     "output_type": "execute_result"
    }
   ],
   "source": [
    "# Test the null\n",
    "stats.kruskal(popular['speechiness'],\n",
    "              unpopular['speechiness'])"
   ]
  },
  {
   "cell_type": "markdown",
   "id": "f86814cc",
   "metadata": {},
   "source": [
    "Due to the very low p-value, we can use a confidence level of 99%. "
   ]
  },
  {
   "cell_type": "code",
   "execution_count": 150,
   "id": "f3aff666",
   "metadata": {},
   "outputs": [
    {
     "name": "stdout",
     "output_type": "stream",
     "text": [
      "The difference in means at the 99% confidence level (two-tail) is between 0.005 and 0.009.\n",
      "\n",
      "Means:\n",
      "0.06943\n",
      "0.07648\n"
     ]
    }
   ],
   "source": [
    "# Calculate confidence interval\n",
    "get_ci(popular['speechiness'], unpopular['speechiness'], cl=0.99)"
   ]
  },
  {
   "cell_type": "markdown",
   "id": "bbc42ccd",
   "metadata": {},
   "source": [
    "We reject the null. With 99% confidence, popular songs have on average between 0.005 and 0.009 lower speechiness score compared with unpopular songs. Although significant, the difference is quite small at around 10%.\n",
    "\n",
    "#### Visualise the difference in speechiness"
   ]
  },
  {
   "cell_type": "code",
   "execution_count": 154,
   "id": "20c22431",
   "metadata": {},
   "outputs": [
    {
     "data": {
      "image/png": "[encoded data removed]",
      "text/plain": [
       "<Figure size 1080x360 with 2 Axes>"
      ]
     },
     "metadata": {},
     "output_type": "display_data"
    }
   ],
   "source": [
    "plt.figure(figsize=(15, 5))\n",
    "\n",
    "# Display plot with truncated y-axis (which doesn't start at 0)\n",
    "plt.subplot(1, 2, 1)\n",
    "p = sns.pointplot(data=[popular['speechiness'], \n",
    "                        unpopular['speechiness']],\n",
    "                  join=False)\n",
    "p.set(xticklabels=['Popular', 'Unpopular'])\n",
    "plt.ylabel('Speechiness', size=14)\n",
    "plt.title('Y-axis does NOT start at 0', size=16);\n",
    "\n",
    "# Display plot with y-axis starting at 0\n",
    "plt.subplot(1, 2, 2)\n",
    "q = sns.pointplot(data=[popular['speechiness'], \n",
    "                        unpopular['speechiness']],\n",
    "                  join=False)\n",
    "q.set(xticklabels=['Popular', 'Unpopular'])\n",
    "plt.title('Y-axis starts at 0', size=16);\n",
    "plt.ylim(ymin=0, ymax=.1);"
   ]
  },
  {
   "cell_type": "markdown",
   "id": "2d5e8074",
   "metadata": {},
   "source": [
    "The left plot, which is using the default settings and a truncated y-axis, indicate a very large difference between the two distributions. The right plot, with a y-axis starting at 0, doesn't play tricks on us like that. It's important to be aware of these details when plotting the difference between two groups. The statistical test suggested a small difference - and this should be reflected in the visuals as well. \n",
    "\n"
   ]
  },
  {
   "cell_type": "markdown",
   "id": "ad41b06b",
   "metadata": {},
   "source": [
    "\n",
    "<br><br><br>\n",
    "<br><br><br>\n",
    "\n",
    "\n",
    "<a name=\"conclusions\"></a>\n",
    "\n",
    "\n",
    "## [Conclusions](#top)\n",
    "\n",
    "\n",
    "We've identified several attributes that differ between popular and unpopular songs. With high certainty and fairly large differences, *Instrumentalness*, *Danceability* and *Energy* level are significantly different between the two groups. The difference in both *Duration* and *Speechiness* were statistically significant but fairly small.\n",
    "\n",
    "There are several caveats regarding the dataset. We don't know under what assumptions it was collected or whether it's representative for songs in general. It contains roughly as many popular as unpopular songs (20k) while it's fair to assume that there are more unpopular than popular songs on the market. We don't know exactly what defines a song as popular. Perhaps the definition is too loose or too restricted. \n",
    "\n",
    "Nevertheless, if you feel that most of the songs you're listening to are more *danceable* than not, have high *energy* levels and are most often not *instrumental* - then there's a chance your music would be popular among many others. On the other hand, if you don't recognise yourself listening to that kind of music, you might be more unique. 🙂"
   ]
  }
 ],
 "metadata": {
  "kernelspec": {
   "display_name": "Python 3 (ipykernel)",
   "language": "python",
   "name": "python3"
  },
  "language_info": {
   "codemirror_mode": {
    "name": "ipython",
    "version": 3
   },
   "file_extension": ".py",
   "mimetype": "text/x-python",
   "name": "python",
   "nbconvert_exporter": "python",
   "pygments_lexer": "ipython3",
   "version": "3.8.12"
  }
 },
 "nbformat": 4,
 "nbformat_minor": 5
}
