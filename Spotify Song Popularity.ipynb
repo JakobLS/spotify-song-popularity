{
 "cells": [
  {
   "cell_type": "markdown",
   "id": "edf90d29",
   "metadata": {},
   "source": [
    "[< back](https://www.jakobsalomonsson.com/)\n",
    "\n",
    "<br><br>\n",
    "\n",
    "<div style=\"text-align: center;\">\n",
    "    <img src=\"https://storage.googleapis.com/pr-newsroom-wp/1/2018/11/Spotify_Logo_CMYK_Green.png\" width=\"50%\" center>\n",
    "</div>\n",
    "\n",
    "<br><br>\n",
    "\n",
    "# Spotify Song Popularity\n",
    "\n",
    "\n",
    "Let's learn more about what makes a song popular. My intuition is that shorter, vocal and more energetic songs are more popular among the general population. These are the kind of songs you hear most frequently when tuning into the radio or checking the top tracks of the month. Is it possible to prove this statistically? Moreover, is your music taste more in line with the general public's, or you've developed a unique taste of your own?\n",
    "\n",
    "The dataset can be downloaded [here](https://www.kaggle.com/akiboy96/spotify-dataset) while the feature descriptions are taken from Spotify's developer [page](https://developer.spotify.com/documentation/web-api/reference/#/operations/get-audio-features). A summary is in the table below. \n",
    "\n",
    "<br><br>\n",
    "\n",
    "| **Feature**        \t| **Description**                                                                                                                                                                                                                                                                                                                                                                                    \t|\n",
    "|--------------------\t|----------------------------------------------------------------------------------------------------------------------------------------------------------------------------------------------------------------------------------------------------------------------------------------------------------------------------------------------------------------------------------------------------\t|\n",
    "| `track`            \t| Track name                                                                                                                                                                                                                                                                                                                                                                                         \t|\n",
    "| `artist`           \t| Artist name                                                                                                                                                                                                                                                                                                                                                                                        \t|\n",
    "| `uri`              \t| URI for the track                                                                                                                                                                                                                                                                                                                                                                                  \t|\n",
    "| `danceability`     \t| Danceability describes how suitable a track is for dancing based on a combination of musical elements including tempo, rhythm stability, beat strength, and overall regularity. A value of 0.0 is least danceable and 1.0 is most danceable.                                                                                                                                                       \t|\n",
    "| `energy`           \t| Energy is a measure from 0.0 to 1.0 and represents a perceptual measure of intensity and activity. Typically, energetic tracks feel fast, loud, and noisy.                                                                                                                                                                                                                                         \t|\n",
    "| `key`              \t| The key the track is in. Integers map to pitches using standard Pitch Class notation.                                                                                                                                                                                                                                                                                                              \t|\n",
    "| `loudness`         \t| The overall loudness of a track in decibels (dB). Loudness values are averaged across the entire track and are useful for comparing relative loudness of tracks.                                                                                                                                                                                                                                   \t|\n",
    "| `mode`             \t| Mode indicates the modality (major or minor) of a track, the type of scale from which its melodic content is derived. Major is represented by 1 and minor is 0.                                                                                                                                                                                                                                    \t|\n",
    "| `speechiness`      \t| Speechiness detects the presence of spoken words in a track. The more exclusively speech-like the recording (e.g. talk show, audio book, poetry), the closer to 1.0 the attribute value.                                                                                                                                                                                                           \t|\n",
    "| `acousticness`     \t| A confidence measure from 0.0 to 1.0 of whether the track is acoustic. 1.0 represents high confidence the track is acoustic.                                                                                                                                                                                                                                                                       \t|\n",
    "| `instrumentalness` \t| Predicts whether a track contains no vocals. \"Ooh\" and \"aah\" sounds are treated as instrumental in this context. Rap or spoken word tracks are clearly \"vocal\". The closer the instrumentalness value is to 1.0, the greater likelihood the track contains no vocal content. Values above 0.5 are intended to represent instrumental tracks, but confidence is higher as the value approaches 1.0. \t|\n",
    "| `liveness`         \t| Detects the presence of an audience in the recording. Higher liveness values represent an increased probability that the track was performed live.                                                                                                                                                                                                                                                 \t|\n",
    "| `valence`          \t| A measure from 0.0 to 1.0 describing the musical positiveness conveyed by a track. Tracks with high valence sound more positive (e.g. happy, cheerful, euphoric).                                                                                                                                                                                                                                  \t|\n",
    "| `tempo`            \t| The overall estimated tempo of a track in beats per minute (BPM).                                                                                                                                                                                                                                                                                                                                  \t|\n",
    "| `duration_ms`      \t| Duration in milliseconds                                                                                                                                                                                                                                                                                                                                                                           \t|\n",
    "| `time_signature`   \t| An estimated time signature. The time signature (meter) is a notational convention to specify how many beats are in each bar (or measure). The time signature ranges from 3 to 7.                                                                                                                                                                                                                  \t|\n",
    "| `chorus_hit`       \t| This the the author's best estimate of when the chorus would start for the track. It's the timestamp of the start of the third section of the track.                                                                                                                                                                                                                                               \t|\n",
    "| `sections`         \t| Number of sections in a songs                                                                                                                                                                                                                                                                                                                                                                      \t|\n",
    "| `popularity`       \t| Song popularity, with popular songs (1) and unpopular songs (0)                                                                                                                                                                                                                                                                                                                                    \t|\n",
    "| `decade`           \t| Decade                                                                                                                                                                                                                                                                                                                                                                                             \t|\n",
    "\n",
    "\n",
    "<br><br>"
   ]
  },
  {
   "cell_type": "markdown",
   "id": "39ea9e22",
   "metadata": {},
   "source": [
    "More specifically, I'm interested in finding out whether attributes such as *Danceability*, *Energy*, *Speechiness*, *Instrumentalness* and *Duration* are significantly different between popular and unpopular songs. Let's get started. \n",
    "\n",
    "\n",
    "<br><br>\n",
    "\n",
    "> **Short summary**: There are statistically significant differences in Danceability (12-13%), Energy level (8-10%), Instrumentalness (24-25%) and Duration (15-21s) but a neglibible difference in Speechiness (<1%) between popular and unpopular songs. \n",
    "\n",
    "<br><br>\n",
    "\n",
    "\n",
    "<a name=\"top\"></a>\n",
    "\n",
    "<br>\n",
    "\n",
    "## Index\n",
    "\n",
    "\n",
    "- [Initial data exploration](#exploration)\n",
    "- [Danceability](#danceability)\n",
    "- [Energy](#energy)\n",
    "- [Speechiness](#speechiness)\n",
    "- [Instrumentalness](#instrumentalness)\n",
    "- [Duration](#duration)\n",
    "- **[Conclusions](#conclusions)**\n",
    "\n",
    "\n",
    "<br>"
   ]
  },
  {
   "cell_type": "code",
   "execution_count": 358,
   "id": "037442e2",
   "metadata": {},
   "outputs": [],
   "source": [
    "import pandas as pd\n",
    "import numpy as np\n",
    "import math\n",
    "import matplotlib.pyplot as plt\n",
    "import seaborn as sns; sns.set()\n",
    "from scipy import stats"
   ]
  },
  {
   "cell_type": "markdown",
   "id": "a8e0c162",
   "metadata": {},
   "source": [
    "<a name=\"exploration\"></a>\n",
    "\n",
    "## [Initial data exploration](#top)\n",
    "\n",
    "Load the data, decode the `mode` and `popularity` columns for ease of understanding, and delete two columns we're not interested in. Finally, display some statistics to make an initial verification that the data is okay. "
   ]
  },
  {
   "cell_type": "code",
   "execution_count": 359,
   "id": "3377cba2",
   "metadata": {},
   "outputs": [
    {
     "data": {
      "text/html": [
       "<div>\n",
       "<style scoped>\n",
       "    .dataframe tbody tr th:only-of-type {\n",
       "        vertical-align: middle;\n",
       "    }\n",
       "\n",
       "    .dataframe tbody tr th {\n",
       "        vertical-align: top;\n",
       "    }\n",
       "\n",
       "    .dataframe thead th {\n",
       "        text-align: right;\n",
       "    }\n",
       "</style>\n",
       "<table border=\"1\" class=\"dataframe\">\n",
       "  <thead>\n",
       "    <tr style=\"text-align: right;\">\n",
       "      <th></th>\n",
       "      <th>track</th>\n",
       "      <th>artist</th>\n",
       "      <th>danceability</th>\n",
       "      <th>energy</th>\n",
       "      <th>key</th>\n",
       "      <th>loudness</th>\n",
       "      <th>mode</th>\n",
       "      <th>speechiness</th>\n",
       "      <th>acousticness</th>\n",
       "      <th>instrumentalness</th>\n",
       "      <th>liveness</th>\n",
       "      <th>valence</th>\n",
       "      <th>tempo</th>\n",
       "      <th>duration_ms</th>\n",
       "      <th>time_signature</th>\n",
       "      <th>chorus_hit</th>\n",
       "      <th>sections</th>\n",
       "      <th>popularity</th>\n",
       "      <th>decade</th>\n",
       "      <th>duration</th>\n",
       "    </tr>\n",
       "  </thead>\n",
       "  <tbody>\n",
       "    <tr>\n",
       "      <th>0</th>\n",
       "      <td>Jealous Kind Of Fella</td>\n",
       "      <td>Garland Green</td>\n",
       "      <td>0.417</td>\n",
       "      <td>0.620</td>\n",
       "      <td>3</td>\n",
       "      <td>-7.727</td>\n",
       "      <td>Major</td>\n",
       "      <td>0.0403</td>\n",
       "      <td>0.490</td>\n",
       "      <td>0.000000</td>\n",
       "      <td>0.0779</td>\n",
       "      <td>0.845</td>\n",
       "      <td>185.655</td>\n",
       "      <td>173533</td>\n",
       "      <td>3</td>\n",
       "      <td>32.94975</td>\n",
       "      <td>9</td>\n",
       "      <td>Popular</td>\n",
       "      <td>60s</td>\n",
       "      <td>173.533</td>\n",
       "    </tr>\n",
       "    <tr>\n",
       "      <th>1</th>\n",
       "      <td>Initials B.B.</td>\n",
       "      <td>Serge Gainsbourg</td>\n",
       "      <td>0.498</td>\n",
       "      <td>0.505</td>\n",
       "      <td>3</td>\n",
       "      <td>-12.475</td>\n",
       "      <td>Major</td>\n",
       "      <td>0.0337</td>\n",
       "      <td>0.018</td>\n",
       "      <td>0.107000</td>\n",
       "      <td>0.1760</td>\n",
       "      <td>0.797</td>\n",
       "      <td>101.801</td>\n",
       "      <td>213613</td>\n",
       "      <td>4</td>\n",
       "      <td>48.82510</td>\n",
       "      <td>10</td>\n",
       "      <td>Unpopular</td>\n",
       "      <td>60s</td>\n",
       "      <td>213.613</td>\n",
       "    </tr>\n",
       "    <tr>\n",
       "      <th>2</th>\n",
       "      <td>Melody Twist</td>\n",
       "      <td>Lord Melody</td>\n",
       "      <td>0.657</td>\n",
       "      <td>0.649</td>\n",
       "      <td>5</td>\n",
       "      <td>-13.392</td>\n",
       "      <td>Major</td>\n",
       "      <td>0.0380</td>\n",
       "      <td>0.846</td>\n",
       "      <td>0.000004</td>\n",
       "      <td>0.1190</td>\n",
       "      <td>0.908</td>\n",
       "      <td>115.940</td>\n",
       "      <td>223960</td>\n",
       "      <td>4</td>\n",
       "      <td>37.22663</td>\n",
       "      <td>12</td>\n",
       "      <td>Unpopular</td>\n",
       "      <td>60s</td>\n",
       "      <td>223.960</td>\n",
       "    </tr>\n",
       "    <tr>\n",
       "      <th>3</th>\n",
       "      <td>Mi Bomba Sonó</td>\n",
       "      <td>Celia Cruz</td>\n",
       "      <td>0.590</td>\n",
       "      <td>0.545</td>\n",
       "      <td>7</td>\n",
       "      <td>-12.058</td>\n",
       "      <td>Minor</td>\n",
       "      <td>0.1040</td>\n",
       "      <td>0.706</td>\n",
       "      <td>0.024600</td>\n",
       "      <td>0.0610</td>\n",
       "      <td>0.967</td>\n",
       "      <td>105.592</td>\n",
       "      <td>157907</td>\n",
       "      <td>4</td>\n",
       "      <td>24.75484</td>\n",
       "      <td>8</td>\n",
       "      <td>Unpopular</td>\n",
       "      <td>60s</td>\n",
       "      <td>157.907</td>\n",
       "    </tr>\n",
       "    <tr>\n",
       "      <th>4</th>\n",
       "      <td>Uravu Solla</td>\n",
       "      <td>P. Susheela</td>\n",
       "      <td>0.515</td>\n",
       "      <td>0.765</td>\n",
       "      <td>11</td>\n",
       "      <td>-3.515</td>\n",
       "      <td>Minor</td>\n",
       "      <td>0.1240</td>\n",
       "      <td>0.857</td>\n",
       "      <td>0.000872</td>\n",
       "      <td>0.2130</td>\n",
       "      <td>0.906</td>\n",
       "      <td>114.617</td>\n",
       "      <td>245600</td>\n",
       "      <td>4</td>\n",
       "      <td>21.79874</td>\n",
       "      <td>14</td>\n",
       "      <td>Unpopular</td>\n",
       "      <td>60s</td>\n",
       "      <td>245.600</td>\n",
       "    </tr>\n",
       "  </tbody>\n",
       "</table>\n",
       "</div>"
      ],
      "text/plain": [
       "                   track            artist  danceability  energy  key  \\\n",
       "0  Jealous Kind Of Fella     Garland Green         0.417   0.620    3   \n",
       "1          Initials B.B.  Serge Gainsbourg         0.498   0.505    3   \n",
       "2           Melody Twist       Lord Melody         0.657   0.649    5   \n",
       "3          Mi Bomba Sonó        Celia Cruz         0.590   0.545    7   \n",
       "4            Uravu Solla       P. Susheela         0.515   0.765   11   \n",
       "\n",
       "   loudness   mode  speechiness  acousticness  instrumentalness  liveness  \\\n",
       "0    -7.727  Major       0.0403         0.490          0.000000    0.0779   \n",
       "1   -12.475  Major       0.0337         0.018          0.107000    0.1760   \n",
       "2   -13.392  Major       0.0380         0.846          0.000004    0.1190   \n",
       "3   -12.058  Minor       0.1040         0.706          0.024600    0.0610   \n",
       "4    -3.515  Minor       0.1240         0.857          0.000872    0.2130   \n",
       "\n",
       "   valence    tempo  duration_ms  time_signature  chorus_hit  sections  \\\n",
       "0    0.845  185.655       173533               3    32.94975         9   \n",
       "1    0.797  101.801       213613               4    48.82510        10   \n",
       "2    0.908  115.940       223960               4    37.22663        12   \n",
       "3    0.967  105.592       157907               4    24.75484         8   \n",
       "4    0.906  114.617       245600               4    21.79874        14   \n",
       "\n",
       "  popularity decade  duration  \n",
       "0    Popular    60s   173.533  \n",
       "1  Unpopular    60s   213.613  \n",
       "2  Unpopular    60s   223.960  \n",
       "3  Unpopular    60s   157.907  \n",
       "4  Unpopular    60s   245.600  "
      ]
     },
     "metadata": {},
     "output_type": "display_data"
    },
    {
     "name": "stdout",
     "output_type": "stream",
     "text": [
      "<class 'pandas.core.frame.DataFrame'>\n",
      "RangeIndex: 41099 entries, 0 to 41098\n",
      "Data columns (total 20 columns):\n",
      " #   Column            Non-Null Count  Dtype  \n",
      "---  ------            --------------  -----  \n",
      " 0   track             41099 non-null  object \n",
      " 1   artist            41099 non-null  object \n",
      " 2   danceability      41099 non-null  float64\n",
      " 3   energy            41099 non-null  float64\n",
      " 4   key               41099 non-null  int64  \n",
      " 5   loudness          41099 non-null  float64\n",
      " 6   mode              41099 non-null  object \n",
      " 7   speechiness       41099 non-null  float64\n",
      " 8   acousticness      41099 non-null  float64\n",
      " 9   instrumentalness  41099 non-null  float64\n",
      " 10  liveness          41099 non-null  float64\n",
      " 11  valence           41099 non-null  float64\n",
      " 12  tempo             41099 non-null  float64\n",
      " 13  duration_ms       41099 non-null  int64  \n",
      " 14  time_signature    41099 non-null  int64  \n",
      " 15  chorus_hit        41099 non-null  float64\n",
      " 16  sections          41099 non-null  int64  \n",
      " 17  popularity        41099 non-null  object \n",
      " 18  decade            41099 non-null  object \n",
      " 19  duration          41099 non-null  float64\n",
      "dtypes: float64(11), int64(4), object(5)\n",
      "memory usage: 6.3+ MB\n"
     ]
    },
    {
     "data": {
      "text/html": [
       "<div>\n",
       "<style scoped>\n",
       "    .dataframe tbody tr th:only-of-type {\n",
       "        vertical-align: middle;\n",
       "    }\n",
       "\n",
       "    .dataframe tbody tr th {\n",
       "        vertical-align: top;\n",
       "    }\n",
       "\n",
       "    .dataframe thead th {\n",
       "        text-align: right;\n",
       "    }\n",
       "</style>\n",
       "<table border=\"1\" class=\"dataframe\">\n",
       "  <thead>\n",
       "    <tr style=\"text-align: right;\">\n",
       "      <th></th>\n",
       "      <th>danceability</th>\n",
       "      <th>energy</th>\n",
       "      <th>key</th>\n",
       "      <th>loudness</th>\n",
       "      <th>speechiness</th>\n",
       "      <th>acousticness</th>\n",
       "      <th>instrumentalness</th>\n",
       "      <th>liveness</th>\n",
       "      <th>valence</th>\n",
       "      <th>tempo</th>\n",
       "      <th>duration_ms</th>\n",
       "      <th>time_signature</th>\n",
       "      <th>chorus_hit</th>\n",
       "      <th>sections</th>\n",
       "      <th>duration</th>\n",
       "    </tr>\n",
       "  </thead>\n",
       "  <tbody>\n",
       "    <tr>\n",
       "      <th>count</th>\n",
       "      <td>41099.000000</td>\n",
       "      <td>41099.000000</td>\n",
       "      <td>41099.000000</td>\n",
       "      <td>41099.000000</td>\n",
       "      <td>41099.000000</td>\n",
       "      <td>41099.000000</td>\n",
       "      <td>41099.000000</td>\n",
       "      <td>41099.000000</td>\n",
       "      <td>41099.000000</td>\n",
       "      <td>41099.000000</td>\n",
       "      <td>4.109900e+04</td>\n",
       "      <td>41099.000000</td>\n",
       "      <td>41099.000000</td>\n",
       "      <td>41099.000000</td>\n",
       "      <td>41099.000000</td>\n",
       "    </tr>\n",
       "    <tr>\n",
       "      <th>mean</th>\n",
       "      <td>0.539683</td>\n",
       "      <td>0.579544</td>\n",
       "      <td>5.213752</td>\n",
       "      <td>-10.221446</td>\n",
       "      <td>0.072952</td>\n",
       "      <td>0.364232</td>\n",
       "      <td>0.154403</td>\n",
       "      <td>0.201534</td>\n",
       "      <td>0.542450</td>\n",
       "      <td>119.336349</td>\n",
       "      <td>2.348755e+05</td>\n",
       "      <td>3.893647</td>\n",
       "      <td>40.106896</td>\n",
       "      <td>10.475632</td>\n",
       "      <td>234.875505</td>\n",
       "    </tr>\n",
       "    <tr>\n",
       "      <th>std</th>\n",
       "      <td>0.177808</td>\n",
       "      <td>0.252629</td>\n",
       "      <td>3.535060</td>\n",
       "      <td>5.311227</td>\n",
       "      <td>0.086106</td>\n",
       "      <td>0.338908</td>\n",
       "      <td>0.303518</td>\n",
       "      <td>0.172957</td>\n",
       "      <td>0.267333</td>\n",
       "      <td>29.099116</td>\n",
       "      <td>1.189696e+05</td>\n",
       "      <td>0.423072</td>\n",
       "      <td>19.006697</td>\n",
       "      <td>4.872026</td>\n",
       "      <td>118.969563</td>\n",
       "    </tr>\n",
       "    <tr>\n",
       "      <th>min</th>\n",
       "      <td>0.000000</td>\n",
       "      <td>0.000251</td>\n",
       "      <td>0.000000</td>\n",
       "      <td>-49.253000</td>\n",
       "      <td>0.000000</td>\n",
       "      <td>0.000000</td>\n",
       "      <td>0.000000</td>\n",
       "      <td>0.013000</td>\n",
       "      <td>0.000000</td>\n",
       "      <td>0.000000</td>\n",
       "      <td>1.516800e+04</td>\n",
       "      <td>0.000000</td>\n",
       "      <td>0.000000</td>\n",
       "      <td>0.000000</td>\n",
       "      <td>15.168000</td>\n",
       "    </tr>\n",
       "    <tr>\n",
       "      <th>25%</th>\n",
       "      <td>0.420000</td>\n",
       "      <td>0.396000</td>\n",
       "      <td>2.000000</td>\n",
       "      <td>-12.816500</td>\n",
       "      <td>0.033700</td>\n",
       "      <td>0.039400</td>\n",
       "      <td>0.000000</td>\n",
       "      <td>0.094000</td>\n",
       "      <td>0.330000</td>\n",
       "      <td>97.395500</td>\n",
       "      <td>1.729165e+05</td>\n",
       "      <td>4.000000</td>\n",
       "      <td>27.599510</td>\n",
       "      <td>8.000000</td>\n",
       "      <td>172.916500</td>\n",
       "    </tr>\n",
       "    <tr>\n",
       "      <th>50%</th>\n",
       "      <td>0.552000</td>\n",
       "      <td>0.601000</td>\n",
       "      <td>5.000000</td>\n",
       "      <td>-9.257000</td>\n",
       "      <td>0.043400</td>\n",
       "      <td>0.258000</td>\n",
       "      <td>0.000120</td>\n",
       "      <td>0.132000</td>\n",
       "      <td>0.559000</td>\n",
       "      <td>117.564000</td>\n",
       "      <td>2.179070e+05</td>\n",
       "      <td>4.000000</td>\n",
       "      <td>35.850270</td>\n",
       "      <td>10.000000</td>\n",
       "      <td>217.907000</td>\n",
       "    </tr>\n",
       "    <tr>\n",
       "      <th>75%</th>\n",
       "      <td>0.669000</td>\n",
       "      <td>0.787000</td>\n",
       "      <td>8.000000</td>\n",
       "      <td>-6.375000</td>\n",
       "      <td>0.069800</td>\n",
       "      <td>0.676000</td>\n",
       "      <td>0.061200</td>\n",
       "      <td>0.261000</td>\n",
       "      <td>0.768000</td>\n",
       "      <td>136.492000</td>\n",
       "      <td>2.667730e+05</td>\n",
       "      <td>4.000000</td>\n",
       "      <td>47.627240</td>\n",
       "      <td>12.000000</td>\n",
       "      <td>266.773000</td>\n",
       "    </tr>\n",
       "    <tr>\n",
       "      <th>max</th>\n",
       "      <td>0.988000</td>\n",
       "      <td>1.000000</td>\n",
       "      <td>11.000000</td>\n",
       "      <td>3.744000</td>\n",
       "      <td>0.960000</td>\n",
       "      <td>0.996000</td>\n",
       "      <td>1.000000</td>\n",
       "      <td>0.999000</td>\n",
       "      <td>0.996000</td>\n",
       "      <td>241.423000</td>\n",
       "      <td>4.170227e+06</td>\n",
       "      <td>5.000000</td>\n",
       "      <td>433.182000</td>\n",
       "      <td>169.000000</td>\n",
       "      <td>4170.227000</td>\n",
       "    </tr>\n",
       "  </tbody>\n",
       "</table>\n",
       "</div>"
      ],
      "text/plain": [
       "       danceability        energy           key      loudness   speechiness  \\\n",
       "count  41099.000000  41099.000000  41099.000000  41099.000000  41099.000000   \n",
       "mean       0.539683      0.579544      5.213752    -10.221446      0.072952   \n",
       "std        0.177808      0.252629      3.535060      5.311227      0.086106   \n",
       "min        0.000000      0.000251      0.000000    -49.253000      0.000000   \n",
       "25%        0.420000      0.396000      2.000000    -12.816500      0.033700   \n",
       "50%        0.552000      0.601000      5.000000     -9.257000      0.043400   \n",
       "75%        0.669000      0.787000      8.000000     -6.375000      0.069800   \n",
       "max        0.988000      1.000000     11.000000      3.744000      0.960000   \n",
       "\n",
       "       acousticness  instrumentalness      liveness       valence  \\\n",
       "count  41099.000000      41099.000000  41099.000000  41099.000000   \n",
       "mean       0.364232          0.154403      0.201534      0.542450   \n",
       "std        0.338908          0.303518      0.172957      0.267333   \n",
       "min        0.000000          0.000000      0.013000      0.000000   \n",
       "25%        0.039400          0.000000      0.094000      0.330000   \n",
       "50%        0.258000          0.000120      0.132000      0.559000   \n",
       "75%        0.676000          0.061200      0.261000      0.768000   \n",
       "max        0.996000          1.000000      0.999000      0.996000   \n",
       "\n",
       "              tempo   duration_ms  time_signature    chorus_hit      sections  \\\n",
       "count  41099.000000  4.109900e+04    41099.000000  41099.000000  41099.000000   \n",
       "mean     119.336349  2.348755e+05        3.893647     40.106896     10.475632   \n",
       "std       29.099116  1.189696e+05        0.423072     19.006697      4.872026   \n",
       "min        0.000000  1.516800e+04        0.000000      0.000000      0.000000   \n",
       "25%       97.395500  1.729165e+05        4.000000     27.599510      8.000000   \n",
       "50%      117.564000  2.179070e+05        4.000000     35.850270     10.000000   \n",
       "75%      136.492000  2.667730e+05        4.000000     47.627240     12.000000   \n",
       "max      241.423000  4.170227e+06        5.000000    433.182000    169.000000   \n",
       "\n",
       "           duration  \n",
       "count  41099.000000  \n",
       "mean     234.875505  \n",
       "std      118.969563  \n",
       "min       15.168000  \n",
       "25%      172.916500  \n",
       "50%      217.907000  \n",
       "75%      266.773000  \n",
       "max     4170.227000  "
      ]
     },
     "metadata": {},
     "output_type": "display_data"
    }
   ],
   "source": [
    "# Load the data into pandas. \n",
    "spotify = pd.read_csv('Spotify/spotify_dataset.csv')\n",
    "\n",
    "# Decode mode and popularity to facilitate interpretation. Convert duration_ms to seconds\n",
    "spotify['mode'] = spotify['mode'].apply(lambda x: 'Major' if x == 1 else 'Minor')\n",
    "spotify['popularity'] = spotify['popularity'].apply(lambda x: 'Popular' if x == 1 else 'Unpopular')\n",
    "spotify['duration'] = spotify['duration_ms'] / 1000\n",
    "\n",
    "# Remove the uri column\n",
    "spotify.drop(['uri'], axis=1, inplace=True)\n",
    "\n",
    "# Display some statistics\n",
    "display(spotify.head())\n",
    "spotify.info()\n",
    "display(spotify.describe())"
   ]
  },
  {
   "cell_type": "markdown",
   "id": "e279eeb5",
   "metadata": {},
   "source": [
    "All columns seem to have a reasonable range. Max duration (`duration_ms`) is very high at `4.17e6`, but converted into something more comprehensible it's actually no more than 70 minutes (around 4000 seconds) - well within what's plausible for a song length. \n",
    "\n",
    "Since we will conduct the analysis based on popular and unpopular songs, we will split the data into two groups. "
   ]
  },
  {
   "cell_type": "code",
   "execution_count": 360,
   "id": "d1501688",
   "metadata": {},
   "outputs": [
    {
     "data": {
      "text/html": [
       "<div>\n",
       "<style scoped>\n",
       "    .dataframe tbody tr th:only-of-type {\n",
       "        vertical-align: middle;\n",
       "    }\n",
       "\n",
       "    .dataframe tbody tr th {\n",
       "        vertical-align: top;\n",
       "    }\n",
       "\n",
       "    .dataframe thead th {\n",
       "        text-align: right;\n",
       "    }\n",
       "</style>\n",
       "<table border=\"1\" class=\"dataframe\">\n",
       "  <thead>\n",
       "    <tr style=\"text-align: right;\">\n",
       "      <th></th>\n",
       "      <th>track</th>\n",
       "      <th>artist</th>\n",
       "      <th>danceability</th>\n",
       "      <th>energy</th>\n",
       "      <th>key</th>\n",
       "      <th>loudness</th>\n",
       "      <th>mode</th>\n",
       "      <th>speechiness</th>\n",
       "      <th>acousticness</th>\n",
       "      <th>instrumentalness</th>\n",
       "      <th>liveness</th>\n",
       "      <th>valence</th>\n",
       "      <th>tempo</th>\n",
       "      <th>duration_ms</th>\n",
       "      <th>time_signature</th>\n",
       "      <th>chorus_hit</th>\n",
       "      <th>sections</th>\n",
       "      <th>popularity</th>\n",
       "      <th>decade</th>\n",
       "      <th>duration</th>\n",
       "    </tr>\n",
       "  </thead>\n",
       "  <tbody>\n",
       "    <tr>\n",
       "      <th>0</th>\n",
       "      <td>Jealous Kind Of Fella</td>\n",
       "      <td>Garland Green</td>\n",
       "      <td>0.417</td>\n",
       "      <td>0.620</td>\n",
       "      <td>3</td>\n",
       "      <td>-7.727</td>\n",
       "      <td>Major</td>\n",
       "      <td>0.0403</td>\n",
       "      <td>0.4900</td>\n",
       "      <td>0.000000</td>\n",
       "      <td>0.0779</td>\n",
       "      <td>0.845</td>\n",
       "      <td>185.655</td>\n",
       "      <td>173533</td>\n",
       "      <td>3</td>\n",
       "      <td>32.94975</td>\n",
       "      <td>9</td>\n",
       "      <td>Popular</td>\n",
       "      <td>60s</td>\n",
       "      <td>173.533</td>\n",
       "    </tr>\n",
       "    <tr>\n",
       "      <th>7</th>\n",
       "      <td>Happy Days</td>\n",
       "      <td>Marv Johnson</td>\n",
       "      <td>0.720</td>\n",
       "      <td>0.624</td>\n",
       "      <td>5</td>\n",
       "      <td>-9.086</td>\n",
       "      <td>Minor</td>\n",
       "      <td>0.0473</td>\n",
       "      <td>0.7950</td>\n",
       "      <td>0.000000</td>\n",
       "      <td>0.4880</td>\n",
       "      <td>0.887</td>\n",
       "      <td>119.999</td>\n",
       "      <td>160040</td>\n",
       "      <td>4</td>\n",
       "      <td>30.42891</td>\n",
       "      <td>8</td>\n",
       "      <td>Popular</td>\n",
       "      <td>60s</td>\n",
       "      <td>160.040</td>\n",
       "    </tr>\n",
       "    <tr>\n",
       "      <th>9</th>\n",
       "      <td>I Can Hear Music</td>\n",
       "      <td>The Beach Boys</td>\n",
       "      <td>0.511</td>\n",
       "      <td>0.603</td>\n",
       "      <td>2</td>\n",
       "      <td>-7.637</td>\n",
       "      <td>Major</td>\n",
       "      <td>0.0280</td>\n",
       "      <td>0.0385</td>\n",
       "      <td>0.000002</td>\n",
       "      <td>0.1420</td>\n",
       "      <td>0.685</td>\n",
       "      <td>128.336</td>\n",
       "      <td>157293</td>\n",
       "      <td>4</td>\n",
       "      <td>43.36534</td>\n",
       "      <td>9</td>\n",
       "      <td>Popular</td>\n",
       "      <td>60s</td>\n",
       "      <td>157.293</td>\n",
       "    </tr>\n",
       "    <tr>\n",
       "      <th>11</th>\n",
       "      <td>Ride Away</td>\n",
       "      <td>Roy Orbison</td>\n",
       "      <td>0.520</td>\n",
       "      <td>0.411</td>\n",
       "      <td>9</td>\n",
       "      <td>-12.411</td>\n",
       "      <td>Major</td>\n",
       "      <td>0.0315</td>\n",
       "      <td>0.7860</td>\n",
       "      <td>0.001200</td>\n",
       "      <td>0.1460</td>\n",
       "      <td>0.350</td>\n",
       "      <td>120.290</td>\n",
       "      <td>207573</td>\n",
       "      <td>4</td>\n",
       "      <td>37.54527</td>\n",
       "      <td>9</td>\n",
       "      <td>Popular</td>\n",
       "      <td>60s</td>\n",
       "      <td>207.573</td>\n",
       "    </tr>\n",
       "    <tr>\n",
       "      <th>13</th>\n",
       "      <td>P.T. 109</td>\n",
       "      <td>Jimmy Dean</td>\n",
       "      <td>0.746</td>\n",
       "      <td>0.666</td>\n",
       "      <td>2</td>\n",
       "      <td>-10.408</td>\n",
       "      <td>Major</td>\n",
       "      <td>0.1460</td>\n",
       "      <td>0.5430</td>\n",
       "      <td>0.000000</td>\n",
       "      <td>0.0488</td>\n",
       "      <td>0.840</td>\n",
       "      <td>94.024</td>\n",
       "      <td>192427</td>\n",
       "      <td>4</td>\n",
       "      <td>78.59848</td>\n",
       "      <td>5</td>\n",
       "      <td>Popular</td>\n",
       "      <td>60s</td>\n",
       "      <td>192.427</td>\n",
       "    </tr>\n",
       "  </tbody>\n",
       "</table>\n",
       "</div>"
      ],
      "text/plain": [
       "                    track          artist  danceability  energy  key  \\\n",
       "0   Jealous Kind Of Fella   Garland Green         0.417   0.620    3   \n",
       "7              Happy Days    Marv Johnson         0.720   0.624    5   \n",
       "9        I Can Hear Music  The Beach Boys         0.511   0.603    2   \n",
       "11              Ride Away     Roy Orbison         0.520   0.411    9   \n",
       "13               P.T. 109      Jimmy Dean         0.746   0.666    2   \n",
       "\n",
       "    loudness   mode  speechiness  acousticness  instrumentalness  liveness  \\\n",
       "0     -7.727  Major       0.0403        0.4900          0.000000    0.0779   \n",
       "7     -9.086  Minor       0.0473        0.7950          0.000000    0.4880   \n",
       "9     -7.637  Major       0.0280        0.0385          0.000002    0.1420   \n",
       "11   -12.411  Major       0.0315        0.7860          0.001200    0.1460   \n",
       "13   -10.408  Major       0.1460        0.5430          0.000000    0.0488   \n",
       "\n",
       "    valence    tempo  duration_ms  time_signature  chorus_hit  sections  \\\n",
       "0     0.845  185.655       173533               3    32.94975         9   \n",
       "7     0.887  119.999       160040               4    30.42891         8   \n",
       "9     0.685  128.336       157293               4    43.36534         9   \n",
       "11    0.350  120.290       207573               4    37.54527         9   \n",
       "13    0.840   94.024       192427               4    78.59848         5   \n",
       "\n",
       "   popularity decade  duration  \n",
       "0     Popular    60s   173.533  \n",
       "7     Popular    60s   160.040  \n",
       "9     Popular    60s   157.293  \n",
       "11    Popular    60s   207.573  \n",
       "13    Popular    60s   192.427  "
      ]
     },
     "metadata": {},
     "output_type": "display_data"
    },
    {
     "data": {
      "text/html": [
       "<div>\n",
       "<style scoped>\n",
       "    .dataframe tbody tr th:only-of-type {\n",
       "        vertical-align: middle;\n",
       "    }\n",
       "\n",
       "    .dataframe tbody tr th {\n",
       "        vertical-align: top;\n",
       "    }\n",
       "\n",
       "    .dataframe thead th {\n",
       "        text-align: right;\n",
       "    }\n",
       "</style>\n",
       "<table border=\"1\" class=\"dataframe\">\n",
       "  <thead>\n",
       "    <tr style=\"text-align: right;\">\n",
       "      <th></th>\n",
       "      <th>track</th>\n",
       "      <th>artist</th>\n",
       "      <th>danceability</th>\n",
       "      <th>energy</th>\n",
       "      <th>key</th>\n",
       "      <th>loudness</th>\n",
       "      <th>mode</th>\n",
       "      <th>speechiness</th>\n",
       "      <th>acousticness</th>\n",
       "      <th>instrumentalness</th>\n",
       "      <th>liveness</th>\n",
       "      <th>valence</th>\n",
       "      <th>tempo</th>\n",
       "      <th>duration_ms</th>\n",
       "      <th>time_signature</th>\n",
       "      <th>chorus_hit</th>\n",
       "      <th>sections</th>\n",
       "      <th>popularity</th>\n",
       "      <th>decade</th>\n",
       "      <th>duration</th>\n",
       "    </tr>\n",
       "  </thead>\n",
       "  <tbody>\n",
       "    <tr>\n",
       "      <th>1</th>\n",
       "      <td>Initials B.B.</td>\n",
       "      <td>Serge Gainsbourg</td>\n",
       "      <td>0.498</td>\n",
       "      <td>0.505</td>\n",
       "      <td>3</td>\n",
       "      <td>-12.475</td>\n",
       "      <td>Major</td>\n",
       "      <td>0.0337</td>\n",
       "      <td>0.018</td>\n",
       "      <td>0.107000</td>\n",
       "      <td>0.176</td>\n",
       "      <td>0.797</td>\n",
       "      <td>101.801</td>\n",
       "      <td>213613</td>\n",
       "      <td>4</td>\n",
       "      <td>48.82510</td>\n",
       "      <td>10</td>\n",
       "      <td>Unpopular</td>\n",
       "      <td>60s</td>\n",
       "      <td>213.613</td>\n",
       "    </tr>\n",
       "    <tr>\n",
       "      <th>2</th>\n",
       "      <td>Melody Twist</td>\n",
       "      <td>Lord Melody</td>\n",
       "      <td>0.657</td>\n",
       "      <td>0.649</td>\n",
       "      <td>5</td>\n",
       "      <td>-13.392</td>\n",
       "      <td>Major</td>\n",
       "      <td>0.0380</td>\n",
       "      <td>0.846</td>\n",
       "      <td>0.000004</td>\n",
       "      <td>0.119</td>\n",
       "      <td>0.908</td>\n",
       "      <td>115.940</td>\n",
       "      <td>223960</td>\n",
       "      <td>4</td>\n",
       "      <td>37.22663</td>\n",
       "      <td>12</td>\n",
       "      <td>Unpopular</td>\n",
       "      <td>60s</td>\n",
       "      <td>223.960</td>\n",
       "    </tr>\n",
       "    <tr>\n",
       "      <th>3</th>\n",
       "      <td>Mi Bomba Sonó</td>\n",
       "      <td>Celia Cruz</td>\n",
       "      <td>0.590</td>\n",
       "      <td>0.545</td>\n",
       "      <td>7</td>\n",
       "      <td>-12.058</td>\n",
       "      <td>Minor</td>\n",
       "      <td>0.1040</td>\n",
       "      <td>0.706</td>\n",
       "      <td>0.024600</td>\n",
       "      <td>0.061</td>\n",
       "      <td>0.967</td>\n",
       "      <td>105.592</td>\n",
       "      <td>157907</td>\n",
       "      <td>4</td>\n",
       "      <td>24.75484</td>\n",
       "      <td>8</td>\n",
       "      <td>Unpopular</td>\n",
       "      <td>60s</td>\n",
       "      <td>157.907</td>\n",
       "    </tr>\n",
       "    <tr>\n",
       "      <th>4</th>\n",
       "      <td>Uravu Solla</td>\n",
       "      <td>P. Susheela</td>\n",
       "      <td>0.515</td>\n",
       "      <td>0.765</td>\n",
       "      <td>11</td>\n",
       "      <td>-3.515</td>\n",
       "      <td>Minor</td>\n",
       "      <td>0.1240</td>\n",
       "      <td>0.857</td>\n",
       "      <td>0.000872</td>\n",
       "      <td>0.213</td>\n",
       "      <td>0.906</td>\n",
       "      <td>114.617</td>\n",
       "      <td>245600</td>\n",
       "      <td>4</td>\n",
       "      <td>21.79874</td>\n",
       "      <td>14</td>\n",
       "      <td>Unpopular</td>\n",
       "      <td>60s</td>\n",
       "      <td>245.600</td>\n",
       "    </tr>\n",
       "    <tr>\n",
       "      <th>5</th>\n",
       "      <td>Beat n. 3</td>\n",
       "      <td>Ennio Morricone</td>\n",
       "      <td>0.697</td>\n",
       "      <td>0.673</td>\n",
       "      <td>0</td>\n",
       "      <td>-10.573</td>\n",
       "      <td>Major</td>\n",
       "      <td>0.0266</td>\n",
       "      <td>0.714</td>\n",
       "      <td>0.919000</td>\n",
       "      <td>0.122</td>\n",
       "      <td>0.778</td>\n",
       "      <td>112.117</td>\n",
       "      <td>167667</td>\n",
       "      <td>4</td>\n",
       "      <td>65.48604</td>\n",
       "      <td>7</td>\n",
       "      <td>Unpopular</td>\n",
       "      <td>60s</td>\n",
       "      <td>167.667</td>\n",
       "    </tr>\n",
       "  </tbody>\n",
       "</table>\n",
       "</div>"
      ],
      "text/plain": [
       "           track            artist  danceability  energy  key  loudness  \\\n",
       "1  Initials B.B.  Serge Gainsbourg         0.498   0.505    3   -12.475   \n",
       "2   Melody Twist       Lord Melody         0.657   0.649    5   -13.392   \n",
       "3  Mi Bomba Sonó        Celia Cruz         0.590   0.545    7   -12.058   \n",
       "4    Uravu Solla       P. Susheela         0.515   0.765   11    -3.515   \n",
       "5      Beat n. 3   Ennio Morricone         0.697   0.673    0   -10.573   \n",
       "\n",
       "    mode  speechiness  acousticness  instrumentalness  liveness  valence  \\\n",
       "1  Major       0.0337         0.018          0.107000     0.176    0.797   \n",
       "2  Major       0.0380         0.846          0.000004     0.119    0.908   \n",
       "3  Minor       0.1040         0.706          0.024600     0.061    0.967   \n",
       "4  Minor       0.1240         0.857          0.000872     0.213    0.906   \n",
       "5  Major       0.0266         0.714          0.919000     0.122    0.778   \n",
       "\n",
       "     tempo  duration_ms  time_signature  chorus_hit  sections popularity  \\\n",
       "1  101.801       213613               4    48.82510        10  Unpopular   \n",
       "2  115.940       223960               4    37.22663        12  Unpopular   \n",
       "3  105.592       157907               4    24.75484         8  Unpopular   \n",
       "4  114.617       245600               4    21.79874        14  Unpopular   \n",
       "5  112.117       167667               4    65.48604         7  Unpopular   \n",
       "\n",
       "  decade  duration  \n",
       "1    60s   213.613  \n",
       "2    60s   223.960  \n",
       "3    60s   157.907  \n",
       "4    60s   245.600  \n",
       "5    60s   167.667  "
      ]
     },
     "metadata": {},
     "output_type": "display_data"
    },
    {
     "name": "stdout",
     "output_type": "stream",
     "text": [
      "Number of popular songs:   20548\n",
      "Number of unpopular songs: 20551\n"
     ]
    }
   ],
   "source": [
    "# Split data into popular and unpopular songs\n",
    "popular = spotify[spotify['popularity'] == 'Popular']\n",
    "unpopular = spotify[spotify['popularity'] == 'Unpopular']\n",
    "\n",
    "# Display the result\n",
    "display(popular.head())\n",
    "display(unpopular.head())\n",
    "\n",
    "print(f\"Number of popular songs:   {len(popular)}\")\n",
    "print(f\"Number of unpopular songs: {len(unpopular)}\")"
   ]
  },
  {
   "cell_type": "markdown",
   "id": "ed3232b8",
   "metadata": {},
   "source": [
    "With around 20.000 songs in each group, the dataset is more than large enough for hypothesis testing.\n",
    "\n",
    "<br><br>\n",
    "\n",
    "<a name=\"danceability\"></a>\n",
    "\n",
    "\n",
    "## [Danceability](#top)\n",
    "\n",
    "Are popular songs more danceable than unpopular songs?\n",
    "\n",
    "Start by displaying danceability by popularity using a histogram for an initial visual inspection."
   ]
  },
  {
   "cell_type": "code",
   "execution_count": 361,
   "id": "1c50f194",
   "metadata": {},
   "outputs": [
    {
     "data": {
      "image/png": "[encoded data removed]",
      "text/plain": [
       "<Figure size 720x360 with 1 Axes>"
      ]
     },
     "metadata": {},
     "output_type": "display_data"
    }
   ],
   "source": [
    "# Plot danceability by popularity\n",
    "plt.figure(figsize=(10,5))\n",
    "plt.hist(popular['danceability'], alpha=.5, bins=50, label='Popular')\n",
    "plt.hist(unpopular['danceability'], alpha=.5, bins=50, label='Unpopular')\n",
    "\n",
    "plt.xlabel('Danceability', size=16)\n",
    "plt.title('Danceability by popularity', size=18)\n",
    "plt.legend(loc='best')\n",
    "\n",
    "plt.show();"
   ]
  },
  {
   "cell_type": "markdown",
   "id": "25803152",
   "metadata": {},
   "source": [
    "Both distributions seem to be close to normally distributed by a visual inspection. Let's calculate some statistics and test for normality using the Shapiro-Wilk test. Although the p-value may not be accurate for samples larger than 5000, the test statistics should be accurate and help us provide some indications. "
   ]
  },
  {
   "cell_type": "code",
   "execution_count": 362,
   "id": "d145b9fb",
   "metadata": {},
   "outputs": [
    {
     "name": "stdout",
     "output_type": "stream",
     "text": [
      "DescribeResult(nobs=20548, minmax=(0.0, 0.988), mean=0.6012118357017714, variance=0.02295889458127986, skewness=-0.2524126963655955, kurtosis=-0.21990301465001094)\n",
      "DescribeResult(nobs=20551, minmax=(0.0576, 0.978), mean=0.47816293124422166, variance=0.03270260210418598, skewness=-0.025951179048799358, kurtosis=-0.5963915009919534) \n",
      "\n",
      "ShapiroResult(statistic=0.994170069694519, pvalue=1.1722831274553891e-27)\n",
      "ShapiroResult(statistic=0.992752730846405, pvalue=1.5046010777248298e-30)\n"
     ]
    },
    {
     "name": "stderr",
     "output_type": "stream",
     "text": [
      "/opt/anaconda3/envs/large-datasets/lib/python3.8/site-packages/scipy/stats/morestats.py:1760: UserWarning: p-value may not be accurate for N > 5000.\n",
      "  warnings.warn(\"p-value may not be accurate for N > 5000.\")\n"
     ]
    }
   ],
   "source": [
    "# Calculate skewness and kurtosis\n",
    "print(stats.describe(popular['danceability']))\n",
    "print(stats.describe(unpopular['danceability']), '\\n')\n",
    "\n",
    "# Test for normality\n",
    "print(stats.shapiro(popular['danceability']))\n",
    "print(stats.shapiro(unpopular['danceability']))"
   ]
  },
  {
   "cell_type": "markdown",
   "id": "18b9014f",
   "metadata": {},
   "source": [
    "Both skewness and kurtosis are well below the threshold of ±3 for normality, while the test statistics is very close to 1. Great! We can more forward with an independet t-test.\n",
    "\n",
    "**State the null and alternative hypothesis**\n",
    "\n",
    "- The *null* hypothesis is that there is *no* significant difference in dancability, on average, between popular and unpopular songs.\n",
    "- The *alternative* hypothesis is that there *is* a significant difference in dancability, on average, between popular and unpopular songs.\n",
    "\n",
    "\n",
    "#### Test the *null* hypothesis"
   ]
  },
  {
   "cell_type": "code",
   "execution_count": 363,
   "id": "c8592e04",
   "metadata": {},
   "outputs": [
    {
     "data": {
      "text/plain": [
       "Ttest_indResult(statistic=74.76497030046097, pvalue=0.0)"
      ]
     },
     "execution_count": 363,
     "metadata": {},
     "output_type": "execute_result"
    }
   ],
   "source": [
    "# Conduct the t-test\n",
    "stats.ttest_ind(popular['danceability'],\n",
    "                unpopular['danceability'])"
   ]
  },
  {
   "cell_type": "markdown",
   "id": "0ba6965b",
   "metadata": {},
   "source": [
    "The p-value is very low. We can thus go with a 99% confidence level when calculating the confidence interval. Define a function for this purpose.  "
   ]
  },
  {
   "cell_type": "code",
   "execution_count": 364,
   "id": "0a056b1a",
   "metadata": {},
   "outputs": [],
   "source": [
    "def get_ci(array_1, array_2, cl=0.95):\n",
    "    \"\"\" Function for calculating the difference in means between two distributions.\n",
    "        cl is confidence level. Deafult is 95%\n",
    "    \"\"\"\n",
    "    \n",
    "    # Get z score depending on the confidence level\n",
    "    if cl == 0.90:\n",
    "        z = 1.645\n",
    "    elif cl == 0.95:\n",
    "        z = 1.96\n",
    "    elif cl == 0.99:\n",
    "        z = 2.58\n",
    "    else:\n",
    "        raise Exception(\"Specify an adequate confidence level (0.90, 0.95 or 0.99)\")\n",
    "    \n",
    "    # Calculate Margin of Error\n",
    "    MOE = z * math.sqrt((array_1.var()/len(array_1))+(array_2.var()/len(array_2)))\n",
    "    \n",
    "    # Lower and Upper confidence intervals\n",
    "    mean1 = array_1.mean()\n",
    "    mean2 = array_2.mean()\n",
    "    mean_diff = mean2 - mean1\n",
    "    ci_lower = mean_diff - MOE\n",
    "    ci_upper = mean_diff + MOE\n",
    "    \n",
    "    print(\"The difference in means at the {:.0%} confidence level (two-tail) is between {:.3f} and {:.3f}.\".format(\n",
    "        cl, ci_lower, ci_upper))\n",
    "    print(f\"\\nMeans:\\n{mean1:.5f}\\n{mean2:.5f}\")"
   ]
  },
  {
   "cell_type": "code",
   "execution_count": 365,
   "id": "180d172e",
   "metadata": {},
   "outputs": [
    {
     "name": "stdout",
     "output_type": "stream",
     "text": [
      "The difference in means at the 99% confidence level (two-tail) is between -0.127 and -0.119.\n",
      "\n",
      "Means:\n",
      "0.60121\n",
      "0.47816\n"
     ]
    }
   ],
   "source": [
    "# Calculate confidence interval and means\n",
    "get_ci(popular['danceability'], unpopular['danceability'], cl=0.99)"
   ]
  },
  {
   "cell_type": "markdown",
   "id": "ac2eaf0a",
   "metadata": {},
   "source": [
    "*We can reject the null. With 99% confidence, popular songs have on average between 0.12 and 0.13 higher danceability scores than unpopular songs.* Due to the [0-1] scale, it can be interpreted as a difference of around 12-13%. \n",
    "\n",
    "\n",
    "#### Visualise the difference in danceability\n",
    "\n",
    "It can be difficult to imagine this average difference just looking at the numbers. Below plot makes this slightly clearer."
   ]
  },
  {
   "cell_type": "code",
   "execution_count": 366,
   "id": "e51b8905",
   "metadata": {},
   "outputs": [
    {
     "data": {
      "image/png": "[encoded data removed]",
      "text/plain": [
       "<Figure size 504x360 with 1 Axes>"
      ]
     },
     "metadata": {},
     "output_type": "display_data"
    }
   ],
   "source": [
    "plt.figure(figsize=(7, 5))\n",
    "p = sns.pointplot(data=[popular['danceability'], \n",
    "                        unpopular['danceability']],\n",
    "                 join=False)\n",
    "p.set(xticklabels=['Popular', 'Unpopular'])\n",
    "p.set(ylabel='Danceability')\n",
    "plt.title('Danceability by popularity', size=14);"
   ]
  },
  {
   "cell_type": "markdown",
   "id": "d72aea53",
   "metadata": {},
   "source": [
    "Here we can visually see that the average danseability for popular songs is significantly higher (at 0.60) compared with unpopular (0.48) songs. Note the small confidence intervals (vertical lines through the dots which you barely see) - they're a result of the large sample size which allows us to calculate the difference more accurately. \n",
    "\n",
    "\n",
    "<br><br>\n",
    "\n",
    "<a name=\"energy\"></a>\n",
    "\n",
    "\n",
    "## [Energy](#top)\n",
    "\n",
    "\n",
    "Are energetic, fast and intense songs more popular than those that are less energetic?"
   ]
  },
  {
   "cell_type": "code",
   "execution_count": 367,
   "id": "70fdff5b",
   "metadata": {},
   "outputs": [
    {
     "data": {
      "image/png": "[encoded data removed]",
      "text/plain": [
       "<Figure size 720x360 with 1 Axes>"
      ]
     },
     "metadata": {},
     "output_type": "display_data"
    },
    {
     "name": "stdout",
     "output_type": "stream",
     "text": [
      "DescribeResult(nobs=20548, minmax=(0.0181, 0.997), mean=0.6242916488222697, variance=0.03940703746274093, skewness=-0.3484507320013295, kurtosis=-0.5913161577042674)\n",
      "DescribeResult(nobs=20551, minmax=(0.000251, 1.0), mean=0.5348029597586493, variance=0.08423108898177896, skewness=-0.0645874449705946, kurtosis=-1.1823820620299565) \n",
      "\n",
      "ShapiroResult(statistic=0.97867751121521, pvalue=0.0)\n",
      "ShapiroResult(statistic=0.9531692266464233, pvalue=0.0)\n"
     ]
    }
   ],
   "source": [
    "# Plot energy by popularity\n",
    "plt.figure(figsize=(10,5))\n",
    "plt.hist(popular['energy'], alpha=.5, bins=50, label='Popular')\n",
    "plt.hist(unpopular['energy'], alpha=.5, bins=50, label='Unpopular')\n",
    "\n",
    "plt.xlabel('Energy', size=16)\n",
    "plt.title('Energy by popularity', size=18)\n",
    "plt.legend(loc='best')\n",
    "plt.show();\n",
    "\n",
    "# Calculate skewness and kurtosis\n",
    "print(stats.describe(popular['energy']))\n",
    "print(stats.describe(unpopular['energy']), '\\n')\n",
    "\n",
    "# Test for normality\n",
    "print(stats.shapiro(popular['energy']))\n",
    "print(stats.shapiro(unpopular['energy']))"
   ]
  },
  {
   "cell_type": "markdown",
   "id": "d820d272",
   "metadata": {},
   "source": [
    "\n",
    "A visual inspection seem to indicate that the most energetic songs are unpopular (energy level at or close to 1). Popular songs are still clustered in the higher end with most energetic songs scoring around 0.5 and 0.8. Popular songs are fairly normally distributed, while unpopular are not.\n",
    "\n",
    "Although skewness and kurtosis indicate that both distributions are normal, the unpopular songs visuals are not convincing. We will thus go with a non-parametric test to be on the safe side. The sample size is with good margin large enough. \n",
    "\n",
    "<br>\n",
    "\n",
    "**State the null and alternative hypothesis**\n",
    "\n",
    "- The *null* hypothesis is that there is *no* significant difference, on average, in energy level between popular and unpopular songs. \n",
    "- The *alternative* hypothesis is that there *is* a significant difference, on average, in energy level between popular and unpopular songs. \n",
    "\n",
    "\n",
    "#### Test the *null* hypothesis"
   ]
  },
  {
   "cell_type": "code",
   "execution_count": 368,
   "id": "83bcc1bd",
   "metadata": {},
   "outputs": [
    {
     "data": {
      "text/plain": [
       "KruskalResult(statistic=904.2689008936939, pvalue=1.15828492943128e-198)"
      ]
     },
     "execution_count": 368,
     "metadata": {},
     "output_type": "execute_result"
    }
   ],
   "source": [
    "# Run t-test\n",
    "stats.kruskal(popular['energy'],\n",
    "              unpopular['energy'])"
   ]
  },
  {
   "cell_type": "code",
   "execution_count": 369,
   "id": "030155a6",
   "metadata": {},
   "outputs": [
    {
     "name": "stdout",
     "output_type": "stream",
     "text": [
      "The difference in means at the 99% confidence level (two-tail) is between -0.096 and -0.083.\n",
      "\n",
      "Means:\n",
      "0.62429\n",
      "0.53480\n"
     ]
    }
   ],
   "source": [
    "# Calculate confidence interval. We use a 99% confidence level du to the very low p-value\n",
    "get_ci(popular['energy'], unpopular['energy'], cl=.99)"
   ]
  },
  {
   "cell_type": "markdown",
   "id": "8ddf0b4d",
   "metadata": {},
   "source": [
    "*We reject the null. With 99% confidence, popular songs have on average between 0.08 and 0.1 higher energy level than unpopular songs.* A difference of 8-10% on average. \n",
    "\n",
    "\n",
    "#### Visualise the difference in energy level"
   ]
  },
  {
   "cell_type": "code",
   "execution_count": 370,
   "id": "46140a81",
   "metadata": {},
   "outputs": [
    {
     "data": {
      "image/png": "[encoded data removed]",
      "text/plain": [
       "<Figure size 504x360 with 1 Axes>"
      ]
     },
     "metadata": {},
     "output_type": "display_data"
    }
   ],
   "source": [
    "plt.figure(figsize=(7, 5))\n",
    "p = sns.pointplot(data=[popular['energy'], \n",
    "                        unpopular['energy']],\n",
    "                 join=False)\n",
    "p.set(xticklabels=['Popular', 'Unpopular'])\n",
    "p.set(ylabel='Energy')\n",
    "plt.title('Energy by popularity', size=14);"
   ]
  },
  {
   "cell_type": "markdown",
   "id": "bd51f17a",
   "metadata": {},
   "source": [
    "Above pointplot visually displays how the average energy level for popular songs (0.62) is significanlty higher than for unpopular songs (0.53). \n",
    "\n",
    "<br><br>\n",
    "\n",
    "<a name=\"speechiness\"></a>\n",
    "\n",
    "\n",
    "## [Speechiness](#top)\n",
    "\n",
    "\n",
    "Does more or less speech in a song affect its popularity? The more speech-like the song, the closer the value is to 1.0. "
   ]
  },
  {
   "cell_type": "code",
   "execution_count": 371,
   "id": "3e0813d6",
   "metadata": {},
   "outputs": [
    {
     "data": {
      "image/png": "[encoded data removed]",
      "text/plain": [
       "<Figure size 720x360 with 1 Axes>"
      ]
     },
     "metadata": {},
     "output_type": "display_data"
    },
    {
     "name": "stdout",
     "output_type": "stream",
     "text": [
      "DescribeResult(nobs=20548, minmax=(0.0, 0.95), mean=0.06942718512750633, variance=0.005906813763293316, skewness=3.2974065853613164, kurtosis=13.700040400575247)\n",
      "DescribeResult(nobs=20551, minmax=(0.0223, 0.96), mean=0.07647677485280521, variance=0.008897069031855826, skewness=5.1384851470838315, kurtosis=34.92671700665262) \n",
      "\n",
      "ShapiroResult(statistic=0.5644060373306274, pvalue=0.0)\n",
      "ShapiroResult(statistic=0.47629427909851074, pvalue=0.0)\n"
     ]
    }
   ],
   "source": [
    "# Plot speechiness by popularity\n",
    "plt.figure(figsize=(10,5))\n",
    "plt.hist(popular['speechiness'], alpha=.5, bins=50, label='Popular')\n",
    "plt.hist(unpopular['speechiness'], alpha=.5, bins=50, label='Unpopular')\n",
    "\n",
    "plt.xlabel('Speechiness', size=16)\n",
    "plt.title('Speechiness by popularity', size=18)\n",
    "plt.legend(loc='best')\n",
    "plt.show();\n",
    "\n",
    "# Calculate skewness and kurtosis\n",
    "print(stats.describe(popular['speechiness']))\n",
    "print(stats.describe(unpopular['speechiness']), '\\n')\n",
    "\n",
    "# Test for normality\n",
    "print(stats.shapiro(popular['speechiness']))\n",
    "print(stats.shapiro(unpopular['speechiness']))"
   ]
  },
  {
   "cell_type": "markdown",
   "id": "a0c11535",
   "metadata": {},
   "source": [
    "\n",
    "There is no clear visual difference between popular and unpopular songs. They all make up of little speech. It seems like speech-rich content such as audio books and podcasts have been excluded from the dataset during data collection.\n",
    "\n",
    "None of the distributions seem normal by a visual inspection, and both skewness and kurtosis indicate the same. We will thus use Kruskal-Wallis test to test the null hypothesis. \n",
    "\n",
    "\n",
    "**State the null and alternative hypothesis**\n",
    "\n",
    "- The *null* hypothesis is that there is *no* significant difference, on average, in speechiness between popular and unpopular songs. \n",
    "- The *alternative* hypothesis is that there *is* a significant difference, on average, in speechiness between popular and unpopular songs. \n",
    "\n",
    "\n",
    "#### Test the *null* hypothesis"
   ]
  },
  {
   "cell_type": "code",
   "execution_count": 372,
   "id": "a7f00baf",
   "metadata": {},
   "outputs": [
    {
     "data": {
      "text/plain": [
       "KruskalResult(statistic=697.3928255038659, pvalue=1.1031965192407093e-153)"
      ]
     },
     "execution_count": 372,
     "metadata": {},
     "output_type": "execute_result"
    }
   ],
   "source": [
    "# Test the null\n",
    "stats.kruskal(popular['speechiness'],\n",
    "              unpopular['speechiness'])"
   ]
  },
  {
   "cell_type": "markdown",
   "id": "f86814cc",
   "metadata": {},
   "source": [
    "Due to the very low p-value, we can use a confidence level of 99%. "
   ]
  },
  {
   "cell_type": "code",
   "execution_count": 373,
   "id": "f3aff666",
   "metadata": {},
   "outputs": [
    {
     "name": "stdout",
     "output_type": "stream",
     "text": [
      "The difference in means at the 99% confidence level (two-tail) is between 0.005 and 0.009.\n",
      "\n",
      "Means:\n",
      "0.06943\n",
      "0.07648\n"
     ]
    }
   ],
   "source": [
    "# Calculate confidence interval\n",
    "get_ci(popular['speechiness'], unpopular['speechiness'], cl=0.99)"
   ]
  },
  {
   "cell_type": "markdown",
   "id": "bbc42ccd",
   "metadata": {},
   "source": [
    "We reject the null. With 99% confidence, popular songs have on average between 0.005 and 0.009 lower speechiness score compared with unpopular songs. *However, although significant, the difference is so small that it may not have any real importance.* It's less than 1%. \n",
    "\n",
    "#### Visualise the difference in speechiness"
   ]
  },
  {
   "cell_type": "code",
   "execution_count": 374,
   "id": "20c22431",
   "metadata": {},
   "outputs": [
    {
     "data": {
      "image/png": "[encoded data removed]",
      "text/plain": [
       "<Figure size 1080x360 with 2 Axes>"
      ]
     },
     "metadata": {},
     "output_type": "display_data"
    }
   ],
   "source": [
    "plt.figure(figsize=(15, 5))\n",
    "\n",
    "# Display plot with truncated y-axis (which doesn't start at 0)\n",
    "plt.subplot(1, 2, 1)\n",
    "p = sns.pointplot(data=[popular['speechiness'], \n",
    "                        unpopular['speechiness']],\n",
    "                  join=False)\n",
    "p.set(xticklabels=['Popular', 'Unpopular'])\n",
    "p.set(ylabel='Speechiness')\n",
    "plt.title('Y-axis does NOT start at 0', size=14);\n",
    "\n",
    "# Display plot with y-axis starting at 0\n",
    "plt.subplot(1, 2, 2)\n",
    "q = sns.pointplot(data=[popular['speechiness'], \n",
    "                        unpopular['speechiness']],\n",
    "                  join=False)\n",
    "q.set(xticklabels=['Popular', 'Unpopular'])\n",
    "q.set(ylabel='Speechiness')\n",
    "plt.title('Y-axis starts at 0', size=14);\n",
    "plt.ylim(ymin=0, ymax=.1);"
   ]
  },
  {
   "cell_type": "markdown",
   "id": "c74c7d9e",
   "metadata": {},
   "source": [
    "The left plot, which is using the default settings and a truncated y-axis, indicate a very large difference between the two distributions. The right plot, with a y-axis starting at 0, doesn't play tricks on us like that. It's important to be wary of these details when plotting the difference between two groups. The statistical test suggested a very small difference - and this should be reflected in the visuals as well. \n",
    "\n",
    "The two means are 0.069 for popular songs and 0.076 for unpopular. \n",
    "\n",
    "\n",
    "<br><br>\n",
    "\n",
    "<a name=\"instrumentalness\"></a>\n",
    "\n",
    "\n",
    "## [Instrumentalness](#top)\n",
    "\n",
    "Does instrumentalness differ between popular and unpopular songs? My initial guess is that popular songs are less instrumental (and thus more vocal). Why? Well, my impression is that most songs that play on radio are vocal rather than instrumental. Let's test whether this holds true. "
   ]
  },
  {
   "cell_type": "code",
   "execution_count": 375,
   "id": "bd50d6ee",
   "metadata": {},
   "outputs": [
    {
     "data": {
      "image/png": "[encoded data removed]",
      "text/plain": [
       "<Figure size 720x360 with 1 Axes>"
      ]
     },
     "metadata": {},
     "output_type": "display_data"
    },
    {
     "name": "stdout",
     "output_type": "stream",
     "text": [
      "DescribeResult(nobs=20548, minmax=(0.0, 0.982), mean=0.03069373979560055, variance=0.016857409891644796, skewness=5.196960615518452, kurtosis=27.571067970038175)\n",
      "DescribeResult(nobs=20551, minmax=(0.0, 1.0), mean=0.27809455669359157, variance=0.13677959632311393, skewness=0.824903938676398, kurtosis=-1.1009584684730493) \n",
      "\n",
      "ShapiroResult(statistic=0.25121474266052246, pvalue=0.0)\n",
      "ShapiroResult(statistic=0.7122498750686646, pvalue=0.0)\n"
     ]
    }
   ],
   "source": [
    "# Plot instrumentalness by popularity\n",
    "plt.figure(figsize=(10,5))\n",
    "plt.hist(popular['instrumentalness'], alpha=.5, bins=50, label='Popular')\n",
    "plt.hist(unpopular['instrumentalness'], alpha=.5, bins=50, label='Unpopular')\n",
    "\n",
    "plt.xlabel('Instrumentalness', size=16)\n",
    "plt.title('Instrumentalness by popularity', size=18)\n",
    "plt.legend(loc='best')\n",
    "plt.show();\n",
    "\n",
    "# Calculate skewness and kurtosis\n",
    "print(stats.describe(popular['instrumentalness']))\n",
    "print(stats.describe(unpopular['instrumentalness']), '\\n')\n",
    "\n",
    "# Test for normality\n",
    "print(stats.shapiro(popular['instrumentalness']))\n",
    "print(stats.shapiro(unpopular['instrumentalness']))"
   ]
  },
  {
   "cell_type": "markdown",
   "id": "6277cad0",
   "metadata": {},
   "source": [
    "None of these distributions are normal. Kruskal-Wallis test will do for testing the null hypothesis. \n",
    "\n",
    "\n",
    "**State the null and alternative hypothesis**\n",
    "\n",
    "- The *null* hypothesis is that there is *no* significant difference, on average, in instrumentalness between popular and unpopular songs. \n",
    "- The *alternative* hypothesis is that there *is* a significant difference, on average, in instrumentalness between popular and unpopular songs. \n",
    "\n",
    "\n",
    "#### Test the *null* hypothesis"
   ]
  },
  {
   "cell_type": "code",
   "execution_count": 376,
   "id": "acac4642",
   "metadata": {},
   "outputs": [
    {
     "data": {
      "text/plain": [
       "KruskalResult(statistic=7265.829685757234, pvalue=0.0)"
      ]
     },
     "execution_count": 376,
     "metadata": {},
     "output_type": "execute_result"
    }
   ],
   "source": [
    "# Test the null\n",
    "stats.kruskal(popular['instrumentalness'],\n",
    "              unpopular['instrumentalness'])"
   ]
  },
  {
   "cell_type": "markdown",
   "id": "1edee2c3",
   "metadata": {},
   "source": [
    "We can choose a confidence level of 99% for the confidence interval due to the low p-value. The high t-statistics indicate a large difference between the groups. "
   ]
  },
  {
   "cell_type": "code",
   "execution_count": 377,
   "id": "109f420a",
   "metadata": {},
   "outputs": [
    {
     "name": "stdout",
     "output_type": "stream",
     "text": [
      "The difference in means at the 99% confidence level (two-tail) is between 0.240 and 0.254.\n",
      "\n",
      "Means:\n",
      "0.03069\n",
      "0.27809\n"
     ]
    }
   ],
   "source": [
    "# Calculate confidence interval\n",
    "get_ci(popular['instrumentalness'], unpopular['instrumentalness'], cl=0.99)"
   ]
  },
  {
   "cell_type": "markdown",
   "id": "e8ec04b8",
   "metadata": {},
   "source": [
    "We reject the null. There is a significant difference in mean between the two groups. *With 99% confidence, popular songs have between 0.24 and 0.25 points lower instrumentalness than unpopular songs*. My initial guess was right then. \n",
    "\n",
    "\n",
    "#### Visualise the difference in instrumentalness"
   ]
  },
  {
   "cell_type": "code",
   "execution_count": 379,
   "id": "5b963395",
   "metadata": {},
   "outputs": [
    {
     "data": {
      "image/png": "[encoded data removed]",
      "text/plain": [
       "<Figure size 504x360 with 1 Axes>"
      ]
     },
     "metadata": {},
     "output_type": "display_data"
    }
   ],
   "source": [
    "plt.figure(figsize=(7, 5))\n",
    "p = sns.pointplot(data=[popular['instrumentalness'], \n",
    "                        unpopular['instrumentalness']],\n",
    "                 join=False)\n",
    "p.set(xticklabels=['Popular', 'Unpopular'])\n",
    "plt.ylabel('Instrumentalness')\n",
    "plt.title('Instrumentalness by popularity', size=14);"
   ]
  },
  {
   "cell_type": "markdown",
   "id": "40c43bf4",
   "metadata": {},
   "source": [
    "Visually the difference is clear, with means at around 0.03 and 0.28. Popular songs are on average far less instrumental than those that are unpopular. \n",
    "\n",
    "\n",
    "<br><br>\n",
    "\n",
    "\n",
    "<a name=\"duration\"></a>\n",
    "\n",
    "\n",
    "## [Duration](#top)\n",
    "\n",
    "\n",
    "Are longer songs perhaps less popular? \n",
    "\n",
    "Start by plotting the duration distribution, split by popularity. As the right tail is very long (the longest song is around 70 minutes, or over 4000 seconds), we can cut the x-axis short at 1000 seconds to help with interpretation.  "
   ]
  },
  {
   "cell_type": "code",
   "execution_count": 380,
   "id": "8b9da4d9",
   "metadata": {},
   "outputs": [
    {
     "data": {
      "image/png": "[encoded data removed]",
      "text/plain": [
       "<Figure size 720x360 with 1 Axes>"
      ]
     },
     "metadata": {},
     "output_type": "display_data"
    },
    {
     "name": "stdout",
     "output_type": "stream",
     "text": [
      "DescribeResult(nobs=20548, minmax=(46.893, 1561.133), mean=226.09435414638892, variance=4327.174919910735, skewness=2.231968165242757, kurtosis=21.221058623337363)\n",
      "DescribeResult(nobs=20551, minmax=(15.168, 4170.227), mean=243.65537423969636, variance=23825.402318643053, skewness=5.933831818977015, kurtosis=83.22764209773909) \n",
      "\n",
      "ShapiroResult(statistic=0.8957380056381226, pvalue=0.0)\n",
      "ShapiroResult(statistic=0.6636985540390015, pvalue=0.0)\n"
     ]
    }
   ],
   "source": [
    "# Plot duration by popularity\n",
    "plt.figure(figsize=(10,5))\n",
    "plt.hist(popular['duration'], alpha=.5, bins=50, label='Popular')\n",
    "plt.hist(unpopular['duration'], alpha=.5, bins=50, label='Unpopular')\n",
    "\n",
    "plt.xlabel('Duration', size=16)\n",
    "plt.xlim(xmin=0, xmax=1000)\n",
    "plt.title('Duration in seconds by popularity', size=18)\n",
    "plt.legend(loc='best')\n",
    "plt.show();\n",
    "\n",
    "# Calculate skewness and kurtosis\n",
    "print(stats.describe(popular['duration']))\n",
    "print(stats.describe(unpopular['duration']), '\\n')\n",
    "\n",
    "# Test for normality\n",
    "print(stats.shapiro(popular['duration']))\n",
    "print(stats.shapiro(unpopular['duration']))"
   ]
  },
  {
   "cell_type": "markdown",
   "id": "a68a5aa5",
   "metadata": {},
   "source": [
    "Both skewness, kurtosis and a visual inspection indicate that neither of the distributions are normal. \n",
    "\n",
    "\n",
    "**State the null and alternative hypothesis**\n",
    "\n",
    "- The *null* hypothesis is that there is *no* significant difference in mean song duration between popular and unpopular songs.  \n",
    "- The *alternative* hypothesis is that there *is* a significant difference in mean song duration between popular and unpopular songs.  \n",
    "\n",
    "Use the Kruskal-Wallis test to test the null.\n",
    "\n",
    "#### Test the *null* hypothesis"
   ]
  },
  {
   "cell_type": "code",
   "execution_count": 381,
   "id": "374d8393",
   "metadata": {},
   "outputs": [
    {
     "data": {
      "text/plain": [
       "KruskalResult(statistic=18.9782431636515, pvalue=1.3221751844007864e-05)"
      ]
     },
     "execution_count": 381,
     "metadata": {},
     "output_type": "execute_result"
    }
   ],
   "source": [
    "# Test the null\n",
    "stats.kruskal(popular['duration'],\n",
    "              unpopular['duration'])"
   ]
  },
  {
   "cell_type": "code",
   "execution_count": 382,
   "id": "ddf11a2a",
   "metadata": {},
   "outputs": [
    {
     "name": "stdout",
     "output_type": "stream",
     "text": [
      "The difference in means at the 99% confidence level (two-tail) is between 14.541 and 20.581.\n",
      "\n",
      "Means:\n",
      "226.09435\n",
      "243.65537\n"
     ]
    }
   ],
   "source": [
    "# Calculate confidence interval with a 99% confidence level\n",
    "get_ci(popular['duration'], unpopular['duration'], cl=0.99)"
   ]
  },
  {
   "cell_type": "markdown",
   "id": "02052c22",
   "metadata": {},
   "source": [
    "We reject the null. There is a significant difference in duration between popular and unpopular songs. *With 99% confidence, popular songs are on average between 15 and 21 seconds shorter than unpopular songs.* \n",
    "\n",
    "I find this reasonable. Bombarded with information and distractions, there's little time a song has to get us hooked. Let's visually display this difference below. \n",
    "\n",
    "\n",
    "#### Visualise the difference in duration\n",
    "\n",
    "A plot helps us visually understand the difference in means. The average duration for popular songs is 226 seconds (less than 4 minutes) while 244 for unpopular. "
   ]
  },
  {
   "cell_type": "code",
   "execution_count": 383,
   "id": "fb19581e",
   "metadata": {},
   "outputs": [
    {
     "data": {
      "image/png": "[encoded data removed]",
      "text/plain": [
       "<Figure size 504x360 with 1 Axes>"
      ]
     },
     "metadata": {},
     "output_type": "display_data"
    }
   ],
   "source": [
    "plt.figure(figsize=(7, 5))\n",
    "p = sns.pointplot(data=[popular['duration'], \n",
    "                        unpopular['duration']],\n",
    "                 join=False)\n",
    "p.set(xticklabels=['Popular', 'Unpopular'])\n",
    "plt.ylabel('Duration')\n",
    "plt.title('Duration by popularity', size=14);"
   ]
  },
  {
   "cell_type": "markdown",
   "id": "ad41b06b",
   "metadata": {},
   "source": [
    "\n",
    "<br><br><br>\n",
    "<br><br><br>\n",
    "\n",
    "\n",
    "<a name=\"conclusions\"></a>\n",
    "\n",
    "\n",
    "## [Conclusions](#top)\n",
    "\n",
    "\n",
    "We've identified several attributes that differ between popular and unpopular songs. With high certainty, *Danceability*, *Energy* level, *Instrumentalness* and *Duration* are significantly different between the two groups. Although the difference in *Speechiness* was statistically significant (probably due to the large sample size), it's so small that it's probably negligible. \n",
    "\n",
    "It's also important to point out that we've only looked into some few features in the dataset. Chances are that there are more features that differ between popular and unpopular songs - some may even play a bigger role in distinguishing between the two groups. Common approaches for this are creating a correlation matrix or, if you're taking a machine learning approach, feature importance. \n",
    "\n",
    "There are several caveats regarding the dataset as well. We don't know under what assumptions it was collected or whether it's representative for songs in general. It contains roughly as many popular as unpopular songs (20,000) while it's fair to assume that there are more unpopular than popular songs on the market. We don't know exactly what defines a song as popular. Perhaps the definition is too loose or too restricted. \n",
    "\n",
    "Nevertheless, if you feel that most of the songs you're listening to are more *danceable* than not, have high *energy* levels, are most often not *instrumental* and are less than 4 minutes long - then there's a chance your music would be popular among many others. On the other hand, if you don't recognise yourself listening to that kind of music, you might be more unique. 🙂"
   ]
  }
 ],
 "metadata": {
  "kernelspec": {
   "display_name": "Python 3 (ipykernel)",
   "language": "python",
   "name": "python3"
  },
  "language_info": {
   "codemirror_mode": {
    "name": "ipython",
    "version": 3
   },
   "file_extension": ".py",
   "mimetype": "text/x-python",
   "name": "python",
   "nbconvert_exporter": "python",
   "pygments_lexer": "ipython3",
   "version": "3.8.12"
  }
 },
 "nbformat": 4,
 "nbformat_minor": 5
}
